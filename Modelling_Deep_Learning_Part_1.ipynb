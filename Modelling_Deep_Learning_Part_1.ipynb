{
 "cells": [
  {
   "attachments": {},
   "cell_type": "markdown",
   "metadata": {
    "id": "No_9ci7iEk4C"
   },
   "source": [
    "# Library"
   ]
  },
  {
   "cell_type": "code",
   "execution_count": 102,
   "metadata": {
    "id": "HqzGEMvPEk4F",
    "tags": []
   },
   "outputs": [],
   "source": [
    "# Library to dataset\n",
    "import pandas as pd\n",
    "import numpy as np\n",
    "import matplotlib.pyplot as plt\n",
    "import opendatasets as od\n",
    "\n",
    "# Library tensorflow\n",
    "import tensorflow as tf\n",
    "from tensorflow.keras.preprocessing.text import Tokenizer\n",
    "from tensorflow.keras.preprocessing.sequence import pad_sequences\n",
    "from tensorflow.keras.callbacks import ModelCheckpoint, EarlyStopping, ReduceLROnPlateau\n",
    "\n",
    "# Surpress warning\n",
    "import warnings\n",
    "warnings.filterwarnings(\"ignore\")\n",
    "\n",
    "# Library sklearn\n",
    "from sklearn.preprocessing import LabelEncoder\n",
    "from sklearn.model_selection import train_test_split\n",
    "\n",
    "# pickle\n",
    "import pickle\n"
   ]
  },
  {
   "attachments": {},
   "cell_type": "markdown",
   "metadata": {},
   "source": [
    "# Dataset"
   ]
  },
  {
   "cell_type": "code",
   "execution_count": 103,
   "metadata": {
    "colab": {
     "base_uri": "https://localhost:8080/",
     "height": 206
    },
    "id": "ly5YTaNrEk4G",
    "outputId": "9a0d7fcf-2d0b-4ba2-ff17-0ad1e27d4b71",
    "tags": []
   },
   "outputs": [
    {
     "data": {
      "text/html": [
       "<div>\n",
       "<style scoped>\n",
       "    .dataframe tbody tr th:only-of-type {\n",
       "        vertical-align: middle;\n",
       "    }\n",
       "\n",
       "    .dataframe tbody tr th {\n",
       "        vertical-align: top;\n",
       "    }\n",
       "\n",
       "    .dataframe thead th {\n",
       "        text-align: right;\n",
       "    }\n",
       "</style>\n",
       "<table border=\"1\" class=\"dataframe\">\n",
       "  <thead>\n",
       "    <tr style=\"text-align: right;\">\n",
       "      <th></th>\n",
       "      <th>text</th>\n",
       "      <th>class</th>\n",
       "      <th>clean_text</th>\n",
       "    </tr>\n",
       "  </thead>\n",
       "  <tbody>\n",
       "    <tr>\n",
       "      <th>0</th>\n",
       "      <td>Ex Wife Threatening SuicideRecently I left my ...</td>\n",
       "      <td>suicide</td>\n",
       "      <td>ex wife threaten suiciderec left wife good che...</td>\n",
       "    </tr>\n",
       "    <tr>\n",
       "      <th>1</th>\n",
       "      <td>Am I weird I don't get affected by compliments...</td>\n",
       "      <td>non-suicide</td>\n",
       "      <td>weird get affect compliment come someon know i...</td>\n",
       "    </tr>\n",
       "    <tr>\n",
       "      <th>2</th>\n",
       "      <td>Finally 2020 is almost over... So I can never ...</td>\n",
       "      <td>non-suicide</td>\n",
       "      <td>final almost never hear bad year ever swear fu...</td>\n",
       "    </tr>\n",
       "    <tr>\n",
       "      <th>3</th>\n",
       "      <td>i need helpjust help me im crying so hard</td>\n",
       "      <td>suicide</td>\n",
       "      <td>need helpjust help im cri hard</td>\n",
       "    </tr>\n",
       "    <tr>\n",
       "      <th>4</th>\n",
       "      <td>I’m so lostHello, my name is Adam (16) and I’v...</td>\n",
       "      <td>suicide</td>\n",
       "      <td>losthello name adam struggl year afraid past y...</td>\n",
       "    </tr>\n",
       "  </tbody>\n",
       "</table>\n",
       "</div>"
      ],
      "text/plain": [
       "                                                text        class  \\\n",
       "0  Ex Wife Threatening SuicideRecently I left my ...      suicide   \n",
       "1  Am I weird I don't get affected by compliments...  non-suicide   \n",
       "2  Finally 2020 is almost over... So I can never ...  non-suicide   \n",
       "3          i need helpjust help me im crying so hard      suicide   \n",
       "4  I’m so lostHello, my name is Adam (16) and I’v...      suicide   \n",
       "\n",
       "                                          clean_text  \n",
       "0  ex wife threaten suiciderec left wife good che...  \n",
       "1  weird get affect compliment come someon know i...  \n",
       "2  final almost never hear bad year ever swear fu...  \n",
       "3                     need helpjust help im cri hard  \n",
       "4  losthello name adam struggl year afraid past y...  "
      ]
     },
     "execution_count": 103,
     "metadata": {},
     "output_type": "execute_result"
    }
   ],
   "source": [
    "# Read dataset\n",
    "data = pd.read_csv('clean_text.csv')\n",
    "data.head()"
   ]
  },
  {
   "attachments": {},
   "cell_type": "markdown",
   "metadata": {},
   "source": [
    "# Encoding"
   ]
  },
  {
   "cell_type": "code",
   "execution_count": 104,
   "metadata": {
    "id": "tI4zGvPDEk4H",
    "tags": []
   },
   "outputs": [],
   "source": [
    "X = data['clean_text'].astype(str)\n",
    "y = data['class']\n",
    "\n",
    "# encode class values as integers\n",
    "# Define label encoder\n",
    "encoder = LabelEncoder()\n",
    "# fit and transform\n",
    "encoded_y = encoder.fit_transform(y)"
   ]
  },
  {
   "attachments": {},
   "cell_type": "markdown",
   "metadata": {},
   "source": [
    "# Test Train Split"
   ]
  },
  {
   "cell_type": "code",
   "execution_count": 105,
   "metadata": {
    "id": "m7z7S5FdEk4H",
    "tags": []
   },
   "outputs": [],
   "source": [
    "# Test and train split\n",
    "X_train, X_test, y_train, y_test = train_test_split(X,encoded_y, test_size=.2, random_state=42)"
   ]
  },
  {
   "attachments": {},
   "cell_type": "markdown",
   "metadata": {
    "id": "YksTB-KzEk4I"
   },
   "source": [
    "# Data Preprocessing"
   ]
  },
  {
   "cell_type": "code",
   "execution_count": 106,
   "metadata": {
    "id": "sIEVlUS7Ek4I",
    "tags": []
   },
   "outputs": [],
   "source": [
    "vocab_size = 10_000\n",
    "max_length = 10_000\n",
    "trunc_type='post'\n",
    "padding_type='post'\n",
    "oov_tok = \"<OOV>\"\n",
    "\n",
    "# Initialize the Tokenizer class\n",
    "tokenizer = Tokenizer(num_words=vocab_size, oov_token=oov_tok)\n",
    "\n",
    "# Generate the word index dictionary\n",
    "tokenizer.fit_on_texts(X_train)\n",
    "word_index = tokenizer.word_index\n",
    "\n",
    "# Generate and pad the training sequences\n",
    "training_sequences = tokenizer.texts_to_sequences(X_train)\n",
    "training_padded = pad_sequences(training_sequences, maxlen=max_length, padding=padding_type, truncating=trunc_type)\n",
    "\n",
    "# Generate and pad the testing sequences\n",
    "testing_sequences = tokenizer.texts_to_sequences(X_test)\n",
    "testing_padded = pad_sequences(testing_sequences, maxlen=max_length, padding=padding_type, truncating=trunc_type)\n",
    "\n",
    "# Convert the labels lists into numpy arrays\n",
    "training_labels = np.array(y_train)\n",
    "testing_labels = np.array(y_test)"
   ]
  },
  {
   "cell_type": "code",
   "execution_count": 107,
   "metadata": {},
   "outputs": [],
   "source": [
    "# Save the word index dictionary\n",
    "np.save('word_index.npy', word_index)\n",
    "\n",
    "# Save Tokenizer\n",
    "with open('tokenizer.pickle', 'wb') as handle:\n",
    "    pickle.dump(tokenizer, handle, protocol=pickle.HIGHEST_PROTOCOL)"
   ]
  },
  {
   "attachments": {},
   "cell_type": "markdown",
   "metadata": {
    "id": "uw8lhhWEEk4J"
   },
   "source": [
    "# Basic Model Embeding Layers"
   ]
  },
  {
   "cell_type": "code",
   "execution_count": 108,
   "metadata": {
    "colab": {
     "base_uri": "https://localhost:8080/"
    },
    "id": "of8FCYLUEk4J",
    "outputId": "c84ae2f6-9b35-4989-e7ae-80118688de8c",
    "tags": []
   },
   "outputs": [
    {
     "data": {
      "text/html": [
       "<pre style=\"white-space:pre;overflow-x:auto;line-height:normal;font-family:Menlo,'DejaVu Sans Mono',consolas,'Courier New',monospace\"><span style=\"font-weight: bold\">Model: \"sequential_2\"</span>\n",
       "</pre>\n"
      ],
      "text/plain": [
       "\u001b[1mModel: \"sequential_2\"\u001b[0m\n"
      ]
     },
     "metadata": {},
     "output_type": "display_data"
    },
    {
     "data": {
      "text/html": [
       "<pre style=\"white-space:pre;overflow-x:auto;line-height:normal;font-family:Menlo,'DejaVu Sans Mono',consolas,'Courier New',monospace\">┏━━━━━━━━━━━━━━━━━━━━━━━━━━━━━━━━━┳━━━━━━━━━━━━━━━━━━━━━━━━┳━━━━━━━━━━━━━━━┓\n",
       "┃<span style=\"font-weight: bold\"> Layer (type)                    </span>┃<span style=\"font-weight: bold\"> Output Shape           </span>┃<span style=\"font-weight: bold\">       Param # </span>┃\n",
       "┡━━━━━━━━━━━━━━━━━━━━━━━━━━━━━━━━━╇━━━━━━━━━━━━━━━━━━━━━━━━╇━━━━━━━━━━━━━━━┩\n",
       "│ embedding_2 (<span style=\"color: #0087ff; text-decoration-color: #0087ff\">Embedding</span>)         │ ?                      │   <span style=\"color: #00af00; text-decoration-color: #00af00\">0</span> (unbuilt) │\n",
       "├─────────────────────────────────┼────────────────────────┼───────────────┤\n",
       "│ flatten_1 (<span style=\"color: #0087ff; text-decoration-color: #0087ff\">Flatten</span>)             │ ?                      │   <span style=\"color: #00af00; text-decoration-color: #00af00\">0</span> (unbuilt) │\n",
       "├─────────────────────────────────┼────────────────────────┼───────────────┤\n",
       "│ dense_8 (<span style=\"color: #0087ff; text-decoration-color: #0087ff\">Dense</span>)                 │ ?                      │   <span style=\"color: #00af00; text-decoration-color: #00af00\">0</span> (unbuilt) │\n",
       "├─────────────────────────────────┼────────────────────────┼───────────────┤\n",
       "│ dense_9 (<span style=\"color: #0087ff; text-decoration-color: #0087ff\">Dense</span>)                 │ ?                      │   <span style=\"color: #00af00; text-decoration-color: #00af00\">0</span> (unbuilt) │\n",
       "├─────────────────────────────────┼────────────────────────┼───────────────┤\n",
       "│ dense_10 (<span style=\"color: #0087ff; text-decoration-color: #0087ff\">Dense</span>)                │ ?                      │   <span style=\"color: #00af00; text-decoration-color: #00af00\">0</span> (unbuilt) │\n",
       "├─────────────────────────────────┼────────────────────────┼───────────────┤\n",
       "│ dense_11 (<span style=\"color: #0087ff; text-decoration-color: #0087ff\">Dense</span>)                │ ?                      │   <span style=\"color: #00af00; text-decoration-color: #00af00\">0</span> (unbuilt) │\n",
       "└─────────────────────────────────┴────────────────────────┴───────────────┘\n",
       "</pre>\n"
      ],
      "text/plain": [
       "┏━━━━━━━━━━━━━━━━━━━━━━━━━━━━━━━━━┳━━━━━━━━━━━━━━━━━━━━━━━━┳━━━━━━━━━━━━━━━┓\n",
       "┃\u001b[1m \u001b[0m\u001b[1mLayer (type)                   \u001b[0m\u001b[1m \u001b[0m┃\u001b[1m \u001b[0m\u001b[1mOutput Shape          \u001b[0m\u001b[1m \u001b[0m┃\u001b[1m \u001b[0m\u001b[1m      Param #\u001b[0m\u001b[1m \u001b[0m┃\n",
       "┡━━━━━━━━━━━━━━━━━━━━━━━━━━━━━━━━━╇━━━━━━━━━━━━━━━━━━━━━━━━╇━━━━━━━━━━━━━━━┩\n",
       "│ embedding_2 (\u001b[38;5;33mEmbedding\u001b[0m)         │ ?                      │   \u001b[38;5;34m0\u001b[0m (unbuilt) │\n",
       "├─────────────────────────────────┼────────────────────────┼───────────────┤\n",
       "│ flatten_1 (\u001b[38;5;33mFlatten\u001b[0m)             │ ?                      │   \u001b[38;5;34m0\u001b[0m (unbuilt) │\n",
       "├─────────────────────────────────┼────────────────────────┼───────────────┤\n",
       "│ dense_8 (\u001b[38;5;33mDense\u001b[0m)                 │ ?                      │   \u001b[38;5;34m0\u001b[0m (unbuilt) │\n",
       "├─────────────────────────────────┼────────────────────────┼───────────────┤\n",
       "│ dense_9 (\u001b[38;5;33mDense\u001b[0m)                 │ ?                      │   \u001b[38;5;34m0\u001b[0m (unbuilt) │\n",
       "├─────────────────────────────────┼────────────────────────┼───────────────┤\n",
       "│ dense_10 (\u001b[38;5;33mDense\u001b[0m)                │ ?                      │   \u001b[38;5;34m0\u001b[0m (unbuilt) │\n",
       "├─────────────────────────────────┼────────────────────────┼───────────────┤\n",
       "│ dense_11 (\u001b[38;5;33mDense\u001b[0m)                │ ?                      │   \u001b[38;5;34m0\u001b[0m (unbuilt) │\n",
       "└─────────────────────────────────┴────────────────────────┴───────────────┘\n"
      ]
     },
     "metadata": {},
     "output_type": "display_data"
    },
    {
     "data": {
      "text/html": [
       "<pre style=\"white-space:pre;overflow-x:auto;line-height:normal;font-family:Menlo,'DejaVu Sans Mono',consolas,'Courier New',monospace\"><span style=\"font-weight: bold\"> Total params: </span><span style=\"color: #00af00; text-decoration-color: #00af00\">0</span> (0.00 B)\n",
       "</pre>\n"
      ],
      "text/plain": [
       "\u001b[1m Total params: \u001b[0m\u001b[38;5;34m0\u001b[0m (0.00 B)\n"
      ]
     },
     "metadata": {},
     "output_type": "display_data"
    },
    {
     "data": {
      "text/html": [
       "<pre style=\"white-space:pre;overflow-x:auto;line-height:normal;font-family:Menlo,'DejaVu Sans Mono',consolas,'Courier New',monospace\"><span style=\"font-weight: bold\"> Trainable params: </span><span style=\"color: #00af00; text-decoration-color: #00af00\">0</span> (0.00 B)\n",
       "</pre>\n"
      ],
      "text/plain": [
       "\u001b[1m Trainable params: \u001b[0m\u001b[38;5;34m0\u001b[0m (0.00 B)\n"
      ]
     },
     "metadata": {},
     "output_type": "display_data"
    },
    {
     "data": {
      "text/html": [
       "<pre style=\"white-space:pre;overflow-x:auto;line-height:normal;font-family:Menlo,'DejaVu Sans Mono',consolas,'Courier New',monospace\"><span style=\"font-weight: bold\"> Non-trainable params: </span><span style=\"color: #00af00; text-decoration-color: #00af00\">0</span> (0.00 B)\n",
       "</pre>\n"
      ],
      "text/plain": [
       "\u001b[1m Non-trainable params: \u001b[0m\u001b[38;5;34m0\u001b[0m (0.00 B)\n"
      ]
     },
     "metadata": {},
     "output_type": "display_data"
    }
   ],
   "source": [
    "embedding_dim = 16\n",
    "\n",
    "# Initialize the model\n",
    "model = tf.keras.Sequential([\n",
    "    tf.keras.layers.Embedding(vocab_size, embedding_dim, input_length=max_length),\n",
    "    tf.keras.layers.Flatten(),\n",
    "    tf.keras.layers.Dense(128, activation='relu'),\n",
    "    tf.keras.layers.Dense(128, activation='relu'),\n",
    "    tf.keras.layers.Dense(128, activation='relu'),\n",
    "    tf.keras.layers.Dense(1, activation='sigmoid')\n",
    "])\n",
    "\n",
    "# Compile the model\n",
    "model.compile(loss='binary_crossentropy',optimizer='adam',metrics=['accuracy'])\n",
    "\n",
    "# Print the model summary\n",
    "model.summary()"
   ]
  },
  {
   "cell_type": "code",
   "execution_count": 109,
   "metadata": {},
   "outputs": [],
   "source": [
    "# Difine the callbacks\n",
    "# Save the best model\n",
    "checkpoint_callback = ModelCheckpoint(filepath=\"Basic_Model_Embedding_Layers.keras\", \n",
    "                                       save_best_only=True, \n",
    "                                       monitor=\"val_accuracy\", \n",
    "                                       mode=\"max\", \n",
    "                                       verbose=1)\n",
    "\n",
    "\n",
    "# Early stopping\n",
    "early_stopping_callback = EarlyStopping(monitor=\"val_accuracy\", mode=\"max\", patience=10, verbose=1, restore_best_weights=True)\n",
    "\n",
    "# Reduce learning rate\n",
    "reduce_lr_callback = ReduceLROnPlateau(monitor=\"val_loss\", factor=0.1, patience=5, verbose=1, mode=\"min\", min_delta=0.0001, cooldown=0, min_lr=0)\n",
    "\n",
    "# Callbacks list\n",
    "callbacks=[checkpoint_callback, early_stopping_callback, reduce_lr_callback]"
   ]
  },
  {
   "cell_type": "code",
   "execution_count": 110,
   "metadata": {},
   "outputs": [
    {
     "name": "stdout",
     "output_type": "stream",
     "text": [
      "Recommended max_length (based on 95th percentile): 168\n"
     ]
    }
   ],
   "source": [
    "import numpy as np\n",
    "import matplotlib.pyplot as plt\n",
    "\n",
    "def find_optimal_max_length(texts, percentile=95):\n",
    "    # Tokenize the texts\n",
    "    sequences = tokenizer.texts_to_sequences(texts)\n",
    "    \n",
    "    # Get the lengths of the sequences\n",
    "    sequence_lengths = [len(seq) for seq in sequences]\n",
    "    \n",
    "    # Calculate the percentile length\n",
    "    max_length = int(np.percentile(sequence_lengths, percentile))\n",
    "\n",
    "    \n",
    "    print(f\"Recommended max_length (based on {percentile}th percentile): {max_length}\")\n",
    "    return max_length\n",
    "\n",
    "# Example usage\n",
    "texts = [\"ex wife threaten suiciderec left wife good cheat twice lie much decid refus go back day ago began threaten suicid tirelessli spent paat day talk keep hesit want believ come back know lot peopl threaten order get way happen realli suppos handl death hand still love wife cannot deal get cheat constantli feel insecur worri today may day hope much happen\",\"weird get affect compliment come someon know irl feel realli good internet stranger\",\"losthello name adam struggl year afraid past year thought suicid fear anxieti close limit quiet long scare come famili feel year ago lose aunt trigger everyday feel hopeless lost guilti remors thing done life thought like littl experienc life time reveal feel famili broke saw cut watch get worri someth portray averag day made feel absolut dread later found attempt survivor attempt od overdos pill attempt hang happen blackout pill never went noos still afraid first therapi diagnos sever depress social anxieti eat disord later transfer fucken group therapi reason made feel anxiou eventu last session therapi show result daili check feel step survey mom dad come find put feel horribl afraid anxiou everyday mom absolut amaz describ happiest ever seen therapi help eventu put sertalin anti anxieti anti depress sorri forgot never finish first prescript ever found right type anti depress mom thought want drug took recommend pill schedul week stop take time feel wors afraid damag worri caus even everyth go afraid ever relaps cut develop sever insomnia day day feel hopeless worthless question still motiv move bed keep go ask nearli everi night almost break everytim pleas pleas pleas someon anyon help scare might someth drastic shape fear anxieti idk anymore\",\"fuck verizon smart famili app even watch porn privat anymor wtf feature\",\"think today may last everyth becom overwhelm late enough night think would enough go final end miser life mine plan work certain friend call know abl actual move know want anymor die fix everyth like pain chest everyth els die would fix everyth stop nuisanc past peopl care wast anyon time dead amp think time right go\",\"nice song lt nice song vibe loverboy wall come true khai dream weak ur around blackbear need khai dream carwash stripteas slow pleas listen\"]\n",
    "max_length = find_optimal_max_length(texts, percentile=95)\n"
   ]
  },
  {
   "cell_type": "code",
   "execution_count": 111,
   "metadata": {
    "id": "wt_f2RcWEk4J",
    "tags": []
   },
   "outputs": [
    {
     "name": "stdout",
     "output_type": "stream",
     "text": [
      "Epoch 1/15\n",
      "\u001b[1m5802/5802\u001b[0m \u001b[32m━━━━━━━━━━━━━━━━━━━━\u001b[0m\u001b[37m\u001b[0m \u001b[1m0s\u001b[0m 37ms/step - accuracy: 0.7483 - loss: 0.4494\n",
      "Epoch 1: val_accuracy improved from -inf to 0.93918, saving model to best_model.keras\n",
      "\u001b[1m5802/5802\u001b[0m \u001b[32m━━━━━━━━━━━━━━━━━━━━\u001b[0m\u001b[37m\u001b[0m \u001b[1m229s\u001b[0m 39ms/step - accuracy: 0.7483 - loss: 0.4494 - val_accuracy: 0.9392 - val_loss: 0.1666 - learning_rate: 0.0010\n",
      "Epoch 2/15\n",
      "\u001b[1m5802/5802\u001b[0m \u001b[32m━━━━━━━━━━━━━━━━━━━━\u001b[0m\u001b[37m\u001b[0m \u001b[1m0s\u001b[0m 36ms/step - accuracy: 0.9442 - loss: 0.1522\n",
      "Epoch 2: val_accuracy improved from 0.93918 to 0.94491, saving model to best_model.keras\n",
      "\u001b[1m5802/5802\u001b[0m \u001b[32m━━━━━━━━━━━━━━━━━━━━\u001b[0m\u001b[37m\u001b[0m \u001b[1m223s\u001b[0m 38ms/step - accuracy: 0.9442 - loss: 0.1522 - val_accuracy: 0.9449 - val_loss: 0.1440 - learning_rate: 0.0010\n",
      "Epoch 3/15\n",
      "\u001b[1m5801/5802\u001b[0m \u001b[32m━━━━━━━━━━━━━━━━━━━\u001b[0m\u001b[37m━\u001b[0m \u001b[1m0s\u001b[0m 37ms/step - accuracy: 0.9554 - loss: 0.1204\n",
      "Epoch 3: val_accuracy improved from 0.94491 to 0.94603, saving model to best_model.keras\n",
      "\u001b[1m5802/5802\u001b[0m \u001b[32m━━━━━━━━━━━━━━━━━━━━\u001b[0m\u001b[37m\u001b[0m \u001b[1m228s\u001b[0m 39ms/step - accuracy: 0.9554 - loss: 0.1204 - val_accuracy: 0.9460 - val_loss: 0.1413 - learning_rate: 0.0010\n",
      "Epoch 4/15\n",
      "\u001b[1m5802/5802\u001b[0m \u001b[32m━━━━━━━━━━━━━━━━━━━━\u001b[0m\u001b[37m\u001b[0m \u001b[1m0s\u001b[0m 36ms/step - accuracy: 0.9632 - loss: 0.1003\n",
      "Epoch 4: val_accuracy improved from 0.94603 to 0.94762, saving model to best_model.keras\n",
      "\u001b[1m5802/5802\u001b[0m \u001b[32m━━━━━━━━━━━━━━━━━━━━\u001b[0m\u001b[37m\u001b[0m \u001b[1m223s\u001b[0m 38ms/step - accuracy: 0.9632 - loss: 0.1003 - val_accuracy: 0.9476 - val_loss: 0.1427 - learning_rate: 0.0010\n",
      "Epoch 5/15\n",
      "\u001b[1m5801/5802\u001b[0m \u001b[32m━━━━━━━━━━━━━━━━━━━\u001b[0m\u001b[37m━\u001b[0m \u001b[1m0s\u001b[0m 36ms/step - accuracy: 0.9717 - loss: 0.0780\n",
      "Epoch 5: val_accuracy did not improve from 0.94762\n",
      "\n",
      "Epoch 5: ReduceLROnPlateau reducing learning rate to 0.00010000000474974513.\n",
      "\u001b[1m5802/5802\u001b[0m \u001b[32m━━━━━━━━━━━━━━━━━━━━\u001b[0m\u001b[37m\u001b[0m \u001b[1m219s\u001b[0m 38ms/step - accuracy: 0.9717 - loss: 0.0781 - val_accuracy: 0.9436 - val_loss: 0.1631 - learning_rate: 0.0010\n",
      "Epoch 6/15\n",
      "\u001b[1m5802/5802\u001b[0m \u001b[32m━━━━━━━━━━━━━━━━━━━━\u001b[0m\u001b[37m\u001b[0m \u001b[1m0s\u001b[0m 36ms/step - accuracy: 0.9814 - loss: 0.0545\n",
      "Epoch 6: val_accuracy did not improve from 0.94762\n",
      "\u001b[1m5802/5802\u001b[0m \u001b[32m━━━━━━━━━━━━━━━━━━━━\u001b[0m\u001b[37m\u001b[0m \u001b[1m219s\u001b[0m 38ms/step - accuracy: 0.9814 - loss: 0.0545 - val_accuracy: 0.9433 - val_loss: 0.1835 - learning_rate: 1.0000e-04\n",
      "Epoch 7/15\n",
      "\u001b[1m5801/5802\u001b[0m \u001b[32m━━━━━━━━━━━━━━━━━━━\u001b[0m\u001b[37m━\u001b[0m \u001b[1m0s\u001b[0m 36ms/step - accuracy: 0.9840 - loss: 0.0472\n",
      "Epoch 7: val_accuracy did not improve from 0.94762\n",
      "\n",
      "Epoch 7: ReduceLROnPlateau reducing learning rate to 1.0000000474974514e-05.\n",
      "\u001b[1m5802/5802\u001b[0m \u001b[32m━━━━━━━━━━━━━━━━━━━━\u001b[0m\u001b[37m\u001b[0m \u001b[1m223s\u001b[0m 38ms/step - accuracy: 0.9840 - loss: 0.0472 - val_accuracy: 0.9428 - val_loss: 0.1979 - learning_rate: 1.0000e-04\n",
      "Epoch 7: early stopping\n",
      "Restoring model weights from the end of the best epoch: 4.\n"
     ]
    }
   ],
   "source": [
    "import numpy as np\n",
    "from keras.preprocessing.sequence import pad_sequences\n",
    "from keras.models import Sequential\n",
    "from keras.layers import Embedding, LSTM, Dense\n",
    "from keras.callbacks import ModelCheckpoint, EarlyStopping, ReduceLROnPlateau\n",
    "\n",
    "# Reduce padding length to a reasonable maximum length (e.g., 200)\n",
    "max_length = 180\n",
    "training_padded = pad_sequences(training_sequences, maxlen=max_length, padding='post', truncating='post')\n",
    "testing_padded = pad_sequences(testing_sequences, maxlen=max_length, padding='post', truncating='post')\n",
    "\n",
    "# Convert labels to NumPy arrays (if not already)\n",
    "training_labels = np.array(training_labels).flatten()\n",
    "testing_labels = np.array(testing_labels).flatten()\n",
    "\n",
    "# Define the number of epochs and batch size\n",
    "num_epochs = 15\n",
    "batch_size = 32\n",
    "\n",
    "# Define the model\n",
    "vocab_size = 20000  # Set to your vocabulary size\n",
    "embedding_dim = 128\n",
    "\n",
    "model = Sequential([\n",
    "    Embedding(input_dim=vocab_size, output_dim=embedding_dim, input_length=max_length),  # Ensure input_length matches max_length (200)\n",
    "    LSTM(64, return_sequences=False),\n",
    "    Dense(1, activation='sigmoid')  # For binary classification\n",
    "])\n",
    "\n",
    "model.compile(optimizer='adam', loss='binary_crossentropy', metrics=['accuracy'])\n",
    "\n",
    "# Define callbacks\n",
    "checkpoint_callback = ModelCheckpoint(filepath=\"best_model.keras\", \n",
    "                                       save_best_only=True, \n",
    "                                       monitor=\"val_accuracy\", \n",
    "                                       mode=\"max\", \n",
    "                                       verbose=1)\n",
    "\n",
    "early_stopping_callback = EarlyStopping(monitor=\"val_accuracy\", \n",
    "                                        mode=\"max\", \n",
    "                                        patience=3, \n",
    "                                        verbose=1, \n",
    "                                        restore_best_weights=True)\n",
    "\n",
    "reduce_lr_callback = ReduceLROnPlateau(monitor=\"val_loss\", \n",
    "                                       factor=0.1, \n",
    "                                       patience=2, \n",
    "                                       verbose=1, \n",
    "                                       mode=\"min\", \n",
    "                                       min_delta=0.0001, \n",
    "                                       min_lr=1e-6)\n",
    "\n",
    "callbacks = [checkpoint_callback, early_stopping_callback, reduce_lr_callback]\n",
    "\n",
    "# Train the model\n",
    "history = model.fit(training_padded, \n",
    "                    training_labels, \n",
    "                    epochs=num_epochs, \n",
    "                    validation_data=(testing_padded, testing_labels), \n",
    "                    callbacks=callbacks, \n",
    "                    batch_size=batch_size)\n"
   ]
  },
  {
   "cell_type": "code",
   "execution_count": 112,
   "metadata": {},
   "outputs": [
    {
     "name": "stdout",
     "output_type": "stream",
     "text": [
      "\u001b[1m1451/1451\u001b[0m \u001b[32m━━━━━━━━━━━━━━━━━━━━\u001b[0m\u001b[37m\u001b[0m \u001b[1m13s\u001b[0m 9ms/step - accuracy: 0.9484 - loss: 0.1415\n",
      "Test results - Loss: 0.14272059500217438 - Accuracy: 94.7624683380127%\n"
     ]
    }
   ],
   "source": [
    "# Evaluate the model on the testing set\n",
    "results = model.evaluate(testing_padded, testing_labels)\n",
    "\n",
    "# Print the evaluation results (Loss and Accuracy)\n",
    "print(f'Test results - Loss: {results[0]} - Accuracy: {100 * results[1]}%')\n"
   ]
  },
  {
   "cell_type": "code",
   "execution_count": 113,
   "metadata": {},
   "outputs": [
    {
     "data": {
      "image/png": "[encoded data removed]",
      "text/plain": [
       "<Figure size 640x480 with 1 Axes>"
      ]
     },
     "metadata": {},
     "output_type": "display_data"
    },
    {
     "data": {
      "image/png": "[encoded data removed]",
      "text/plain": [
       "<Figure size 640x480 with 1 Axes>"
      ]
     },
     "metadata": {},
     "output_type": "display_data"
    }
   ],
   "source": [
    "import matplotlib.pyplot as plt\n",
    "\n",
    "# Plot utility function to plot accuracy and loss\n",
    "def plot_graphs(history, metric):\n",
    "    plt.plot(history.history[metric])\n",
    "    plt.plot(history.history[f'val_{metric}'])\n",
    "    plt.xlabel(\"Epochs\")\n",
    "    plt.ylabel(metric.capitalize())\n",
    "    plt.legend([metric, f'val_{metric}'])\n",
    "    plt.show()\n",
    "\n",
    "# Plot Accuracy and Loss\n",
    "plot_graphs(history, \"accuracy\")\n",
    "plot_graphs(history, \"loss\")\n"
   ]
  },
  {
   "cell_type": "code",
   "execution_count": 114,
   "metadata": {},
   "outputs": [
    {
     "name": "stdout",
     "output_type": "stream",
     "text": [
      "\u001b[1m1451/1451\u001b[0m \u001b[32m━━━━━━━━━━━━━━━━━━━━\u001b[0m\u001b[37m\u001b[0m \u001b[1m13s\u001b[0m 9ms/step\n",
      "Predictions: [[1]\n",
      " [0]\n",
      " [0]\n",
      " [1]\n",
      " [1]\n",
      " [0]\n",
      " [0]\n",
      " [0]\n",
      " [0]\n",
      " [1]]\n",
      "Actual Labels: [1 0 0 1 0 0 0 0 0 1]\n"
     ]
    }
   ],
   "source": [
    "# Make predictions on the test data\n",
    "predictions = model.predict(testing_padded)\n",
    "\n",
    "# Convert predictions to binary values (0 or 1)\n",
    "predicted_labels = (predictions > 0.5).astype(\"int32\")\n",
    "\n",
    "# Print the first few predictions and the actual labels for comparison\n",
    "print(f\"Predictions: {predicted_labels[:10]}\")\n",
    "print(f\"Actual Labels: {testing_labels[:10]}\")\n"
   ]
  },
  {
   "attachments": {},
   "cell_type": "markdown",
   "metadata": {
    "id": "B0Msocs1Ek4K"
   },
   "source": [
    "# Model Basic + Global Average Pooling"
   ]
  },
  {
   "cell_type": "code",
   "execution_count": 115,
   "metadata": {
    "id": "smU8ZKgyEk4K",
    "outputId": "4eaa90c3-6807-4370-f2f5-25139bbb2192",
    "tags": []
   },
   "outputs": [
    {
     "data": {
      "text/html": [
       "<pre style=\"white-space:pre;overflow-x:auto;line-height:normal;font-family:Menlo,'DejaVu Sans Mono',consolas,'Courier New',monospace\"><span style=\"font-weight: bold\">Model: \"sequential_4\"</span>\n",
       "</pre>\n"
      ],
      "text/plain": [
       "\u001b[1mModel: \"sequential_4\"\u001b[0m\n"
      ]
     },
     "metadata": {},
     "output_type": "display_data"
    },
    {
     "data": {
      "text/html": [
       "<pre style=\"white-space:pre;overflow-x:auto;line-height:normal;font-family:Menlo,'DejaVu Sans Mono',consolas,'Courier New',monospace\">┏━━━━━━━━━━━━━━━━━━━━━━━━━━━━━━━━━┳━━━━━━━━━━━━━━━━━━━━━━━━┳━━━━━━━━━━━━━━━┓\n",
       "┃<span style=\"font-weight: bold\"> Layer (type)                    </span>┃<span style=\"font-weight: bold\"> Output Shape           </span>┃<span style=\"font-weight: bold\">       Param # </span>┃\n",
       "┡━━━━━━━━━━━━━━━━━━━━━━━━━━━━━━━━━╇━━━━━━━━━━━━━━━━━━━━━━━━╇━━━━━━━━━━━━━━━┩\n",
       "│ embedding_4 (<span style=\"color: #0087ff; text-decoration-color: #0087ff\">Embedding</span>)         │ ?                      │   <span style=\"color: #00af00; text-decoration-color: #00af00\">0</span> (unbuilt) │\n",
       "├─────────────────────────────────┼────────────────────────┼───────────────┤\n",
       "│ global_average_pooling1d        │ ?                      │   <span style=\"color: #00af00; text-decoration-color: #00af00\">0</span> (unbuilt) │\n",
       "│ (<span style=\"color: #0087ff; text-decoration-color: #0087ff\">GlobalAveragePooling1D</span>)        │                        │               │\n",
       "├─────────────────────────────────┼────────────────────────┼───────────────┤\n",
       "│ dense_13 (<span style=\"color: #0087ff; text-decoration-color: #0087ff\">Dense</span>)                │ ?                      │   <span style=\"color: #00af00; text-decoration-color: #00af00\">0</span> (unbuilt) │\n",
       "├─────────────────────────────────┼────────────────────────┼───────────────┤\n",
       "│ dense_14 (<span style=\"color: #0087ff; text-decoration-color: #0087ff\">Dense</span>)                │ ?                      │   <span style=\"color: #00af00; text-decoration-color: #00af00\">0</span> (unbuilt) │\n",
       "├─────────────────────────────────┼────────────────────────┼───────────────┤\n",
       "│ dense_15 (<span style=\"color: #0087ff; text-decoration-color: #0087ff\">Dense</span>)                │ ?                      │   <span style=\"color: #00af00; text-decoration-color: #00af00\">0</span> (unbuilt) │\n",
       "├─────────────────────────────────┼────────────────────────┼───────────────┤\n",
       "│ dense_16 (<span style=\"color: #0087ff; text-decoration-color: #0087ff\">Dense</span>)                │ ?                      │   <span style=\"color: #00af00; text-decoration-color: #00af00\">0</span> (unbuilt) │\n",
       "└─────────────────────────────────┴────────────────────────┴───────────────┘\n",
       "</pre>\n"
      ],
      "text/plain": [
       "┏━━━━━━━━━━━━━━━━━━━━━━━━━━━━━━━━━┳━━━━━━━━━━━━━━━━━━━━━━━━┳━━━━━━━━━━━━━━━┓\n",
       "┃\u001b[1m \u001b[0m\u001b[1mLayer (type)                   \u001b[0m\u001b[1m \u001b[0m┃\u001b[1m \u001b[0m\u001b[1mOutput Shape          \u001b[0m\u001b[1m \u001b[0m┃\u001b[1m \u001b[0m\u001b[1m      Param #\u001b[0m\u001b[1m \u001b[0m┃\n",
       "┡━━━━━━━━━━━━━━━━━━━━━━━━━━━━━━━━━╇━━━━━━━━━━━━━━━━━━━━━━━━╇━━━━━━━━━━━━━━━┩\n",
       "│ embedding_4 (\u001b[38;5;33mEmbedding\u001b[0m)         │ ?                      │   \u001b[38;5;34m0\u001b[0m (unbuilt) │\n",
       "├─────────────────────────────────┼────────────────────────┼───────────────┤\n",
       "│ global_average_pooling1d        │ ?                      │   \u001b[38;5;34m0\u001b[0m (unbuilt) │\n",
       "│ (\u001b[38;5;33mGlobalAveragePooling1D\u001b[0m)        │                        │               │\n",
       "├─────────────────────────────────┼────────────────────────┼───────────────┤\n",
       "│ dense_13 (\u001b[38;5;33mDense\u001b[0m)                │ ?                      │   \u001b[38;5;34m0\u001b[0m (unbuilt) │\n",
       "├─────────────────────────────────┼────────────────────────┼───────────────┤\n",
       "│ dense_14 (\u001b[38;5;33mDense\u001b[0m)                │ ?                      │   \u001b[38;5;34m0\u001b[0m (unbuilt) │\n",
       "├─────────────────────────────────┼────────────────────────┼───────────────┤\n",
       "│ dense_15 (\u001b[38;5;33mDense\u001b[0m)                │ ?                      │   \u001b[38;5;34m0\u001b[0m (unbuilt) │\n",
       "├─────────────────────────────────┼────────────────────────┼───────────────┤\n",
       "│ dense_16 (\u001b[38;5;33mDense\u001b[0m)                │ ?                      │   \u001b[38;5;34m0\u001b[0m (unbuilt) │\n",
       "└─────────────────────────────────┴────────────────────────┴───────────────┘\n"
      ]
     },
     "metadata": {},
     "output_type": "display_data"
    },
    {
     "data": {
      "text/html": [
       "<pre style=\"white-space:pre;overflow-x:auto;line-height:normal;font-family:Menlo,'DejaVu Sans Mono',consolas,'Courier New',monospace\"><span style=\"font-weight: bold\"> Total params: </span><span style=\"color: #00af00; text-decoration-color: #00af00\">0</span> (0.00 B)\n",
       "</pre>\n"
      ],
      "text/plain": [
       "\u001b[1m Total params: \u001b[0m\u001b[38;5;34m0\u001b[0m (0.00 B)\n"
      ]
     },
     "metadata": {},
     "output_type": "display_data"
    },
    {
     "data": {
      "text/html": [
       "<pre style=\"white-space:pre;overflow-x:auto;line-height:normal;font-family:Menlo,'DejaVu Sans Mono',consolas,'Courier New',monospace\"><span style=\"font-weight: bold\"> Trainable params: </span><span style=\"color: #00af00; text-decoration-color: #00af00\">0</span> (0.00 B)\n",
       "</pre>\n"
      ],
      "text/plain": [
       "\u001b[1m Trainable params: \u001b[0m\u001b[38;5;34m0\u001b[0m (0.00 B)\n"
      ]
     },
     "metadata": {},
     "output_type": "display_data"
    },
    {
     "data": {
      "text/html": [
       "<pre style=\"white-space:pre;overflow-x:auto;line-height:normal;font-family:Menlo,'DejaVu Sans Mono',consolas,'Courier New',monospace\"><span style=\"font-weight: bold\"> Non-trainable params: </span><span style=\"color: #00af00; text-decoration-color: #00af00\">0</span> (0.00 B)\n",
       "</pre>\n"
      ],
      "text/plain": [
       "\u001b[1m Non-trainable params: \u001b[0m\u001b[38;5;34m0\u001b[0m (0.00 B)\n"
      ]
     },
     "metadata": {},
     "output_type": "display_data"
    }
   ],
   "source": [
    "embedding_dim = 16\n",
    "\n",
    "# Initialize the model\n",
    "model_GlobalAveragePooling1D = tf.keras.Sequential([\n",
    "    tf.keras.layers.Embedding(vocab_size, embedding_dim, input_length=max_length),\n",
    "    tf.keras.layers.GlobalAveragePooling1D(),\n",
    "    tf.keras.layers.Dense(128, activation='relu'),\n",
    "    tf.keras.layers.Dense(128, activation='relu'),\n",
    "    tf.keras.layers.Dense(128, activation='relu'),\n",
    "    tf.keras.layers.Dense(1, activation='sigmoid')\n",
    "])\n",
    "\n",
    "# Compile the model\n",
    "model_GlobalAveragePooling1D.compile(loss='binary_crossentropy',optimizer='adam',metrics=['accuracy'])\n",
    "\n",
    "# Print the model summary\n",
    "model_GlobalAveragePooling1D.summary()"
   ]
  },
  {
   "cell_type": "code",
   "execution_count": 116,
   "metadata": {},
   "outputs": [],
   "source": [
    "# Define the callbacks\n",
    "# Save the best model\n",
    "checkpoint_callback = ModelCheckpoint(filepath=\"Model_Basic_GAP.keras\", save_best_only=True, monitor=\"val_accuracy\", mode=\"max\", verbose=1)\n",
    "\n",
    "# Early stopping\n",
    "early_stopping_callback = EarlyStopping(monitor=\"val_accuracy\", mode=\"max\", patience=10, verbose=1, restore_best_weights=True)\n",
    "\n",
    "# Reduce learning rate\n",
    "reduce_lr_callback = ReduceLROnPlateau(monitor=\"val_loss\", factor=0.1, patience=5, verbose=1, mode=\"min\", min_delta=0.0001, cooldown=0, min_lr=0)\n",
    "\n",
    "# Callbacks list\n",
    "callbacks = [checkpoint_callback, early_stopping_callback, reduce_lr_callback]\n"
   ]
  },
  {
   "cell_type": "code",
   "execution_count": 117,
   "metadata": {
    "id": "kgUSXmCqEk4L",
    "outputId": "ba0c3d0c-5aa0-4624-b5f8-ffef531433e5",
    "tags": []
   },
   "outputs": [
    {
     "name": "stdout",
     "output_type": "stream",
     "text": [
      "Epoch 1/55\n",
      "\u001b[1m5787/5802\u001b[0m \u001b[32m━━━━━━━━━━━━━━━━━━━\u001b[0m\u001b[37m━\u001b[0m \u001b[1m0s\u001b[0m 1ms/step - accuracy: 0.8626 - loss: 0.3204\n",
      "Epoch 1: val_accuracy improved from -inf to 0.92627, saving model to Model_Basic_GAP.keras\n",
      "\u001b[1m5802/5802\u001b[0m \u001b[32m━━━━━━━━━━━━━━━━━━━━\u001b[0m\u001b[37m\u001b[0m \u001b[1m10s\u001b[0m 1ms/step - accuracy: 0.8627 - loss: 0.3202 - val_accuracy: 0.9263 - val_loss: 0.2022 - learning_rate: 0.0010\n",
      "Epoch 2/55\n",
      "\u001b[1m5802/5802\u001b[0m \u001b[32m━━━━━━━━━━━━━━━━━━━━\u001b[0m\u001b[37m\u001b[0m \u001b[1m0s\u001b[0m 1ms/step - accuracy: 0.9226 - loss: 0.2017\n",
      "Epoch 2: val_accuracy did not improve from 0.92627\n",
      "\u001b[1m5802/5802\u001b[0m \u001b[32m━━━━━━━━━━━━━━━━━━━━\u001b[0m\u001b[37m\u001b[0m \u001b[1m8s\u001b[0m 1ms/step - accuracy: 0.9226 - loss: 0.2017 - val_accuracy: 0.9176 - val_loss: 0.2167 - learning_rate: 0.0010\n",
      "Epoch 3/55\n",
      "\u001b[1m5801/5802\u001b[0m \u001b[32m━━━━━━━━━━━━━━━━━━━\u001b[0m\u001b[37m━\u001b[0m \u001b[1m0s\u001b[0m 1ms/step - accuracy: 0.9294 - loss: 0.1843\n",
      "Epoch 3: val_accuracy improved from 0.92627 to 0.93241, saving model to Model_Basic_GAP.keras\n",
      "\u001b[1m5802/5802\u001b[0m \u001b[32m━━━━━━━━━━━━━━━━━━━━\u001b[0m\u001b[37m\u001b[0m \u001b[1m8s\u001b[0m 1ms/step - accuracy: 0.9294 - loss: 0.1843 - val_accuracy: 0.9324 - val_loss: 0.1845 - learning_rate: 0.0010\n",
      "Epoch 4/55\n",
      "\u001b[1m5774/5802\u001b[0m \u001b[32m━━━━━━━━━━━━━━━━━━━\u001b[0m\u001b[37m━\u001b[0m \u001b[1m0s\u001b[0m 1ms/step - accuracy: 0.9355 - loss: 0.1715\n",
      "Epoch 4: val_accuracy improved from 0.93241 to 0.93256, saving model to Model_Basic_GAP.keras\n",
      "\u001b[1m5802/5802\u001b[0m \u001b[32m━━━━━━━━━━━━━━━━━━━━\u001b[0m\u001b[37m\u001b[0m \u001b[1m8s\u001b[0m 1ms/step - accuracy: 0.9355 - loss: 0.1715 - val_accuracy: 0.9326 - val_loss: 0.1750 - learning_rate: 0.0010\n",
      "Epoch 5/55\n",
      "\u001b[1m5766/5802\u001b[0m \u001b[32m━━━━━━━━━━━━━━━━━━━\u001b[0m\u001b[37m━\u001b[0m \u001b[1m0s\u001b[0m 1ms/step - accuracy: 0.9366 - loss: 0.1650\n",
      "Epoch 5: val_accuracy improved from 0.93256 to 0.93381, saving model to Model_Basic_GAP.keras\n",
      "\u001b[1m5802/5802\u001b[0m \u001b[32m━━━━━━━━━━━━━━━━━━━━\u001b[0m\u001b[37m\u001b[0m \u001b[1m8s\u001b[0m 1ms/step - accuracy: 0.9366 - loss: 0.1650 - val_accuracy: 0.9338 - val_loss: 0.1723 - learning_rate: 0.0010\n",
      "Epoch 6/55\n",
      "\u001b[1m5780/5802\u001b[0m \u001b[32m━━━━━━━━━━━━━━━━━━━\u001b[0m\u001b[37m━\u001b[0m \u001b[1m0s\u001b[0m 1ms/step - accuracy: 0.9384 - loss: 0.1592\n",
      "Epoch 6: val_accuracy did not improve from 0.93381\n",
      "\u001b[1m5802/5802\u001b[0m \u001b[32m━━━━━━━━━━━━━━━━━━━━\u001b[0m\u001b[37m\u001b[0m \u001b[1m8s\u001b[0m 1ms/step - accuracy: 0.9384 - loss: 0.1592 - val_accuracy: 0.9252 - val_loss: 0.1936 - learning_rate: 0.0010\n",
      "Epoch 7/55\n",
      "\u001b[1m5798/5802\u001b[0m \u001b[32m━━━━━━━━━━━━━━━━━━━\u001b[0m\u001b[37m━\u001b[0m \u001b[1m0s\u001b[0m 1ms/step - accuracy: 0.9413 - loss: 0.1521\n",
      "Epoch 7: val_accuracy did not improve from 0.93381\n",
      "\u001b[1m5802/5802\u001b[0m \u001b[32m━━━━━━━━━━━━━━━━━━━━\u001b[0m\u001b[37m\u001b[0m \u001b[1m8s\u001b[0m 1ms/step - accuracy: 0.9413 - loss: 0.1521 - val_accuracy: 0.9308 - val_loss: 0.1995 - learning_rate: 0.0010\n",
      "Epoch 8/55\n",
      "\u001b[1m5785/5802\u001b[0m \u001b[32m━━━━━━━━━━━━━━━━━━━\u001b[0m\u001b[37m━\u001b[0m \u001b[1m0s\u001b[0m 1ms/step - accuracy: 0.9429 - loss: 0.1490\n",
      "Epoch 8: val_accuracy did not improve from 0.93381\n",
      "\u001b[1m5802/5802\u001b[0m \u001b[32m━━━━━━━━━━━━━━━━━━━━\u001b[0m\u001b[37m\u001b[0m \u001b[1m8s\u001b[0m 1ms/step - accuracy: 0.9429 - loss: 0.1490 - val_accuracy: 0.9274 - val_loss: 0.1895 - learning_rate: 0.0010\n",
      "Epoch 9/55\n",
      "\u001b[1m5773/5802\u001b[0m \u001b[32m━━━━━━━━━━━━━━━━━━━\u001b[0m\u001b[37m━\u001b[0m \u001b[1m0s\u001b[0m 1ms/step - accuracy: 0.9440 - loss: 0.1447\n",
      "Epoch 9: val_accuracy improved from 0.93381 to 0.93409, saving model to Model_Basic_GAP.keras\n",
      "\u001b[1m5802/5802\u001b[0m \u001b[32m━━━━━━━━━━━━━━━━━━━━\u001b[0m\u001b[37m\u001b[0m \u001b[1m8s\u001b[0m 1ms/step - accuracy: 0.9440 - loss: 0.1447 - val_accuracy: 0.9341 - val_loss: 0.1764 - learning_rate: 0.0010\n",
      "Epoch 10/55\n",
      "\u001b[1m5779/5802\u001b[0m \u001b[32m━━━━━━━━━━━━━━━━━━━\u001b[0m\u001b[37m━\u001b[0m \u001b[1m0s\u001b[0m 1ms/step - accuracy: 0.9444 - loss: 0.1433\n",
      "Epoch 10: val_accuracy did not improve from 0.93409\n",
      "\n",
      "Epoch 10: ReduceLROnPlateau reducing learning rate to 0.00010000000474974513.\n",
      "\u001b[1m5802/5802\u001b[0m \u001b[32m━━━━━━━━━━━━━━━━━━━━\u001b[0m\u001b[37m\u001b[0m \u001b[1m8s\u001b[0m 1ms/step - accuracy: 0.9444 - loss: 0.1433 - val_accuracy: 0.9330 - val_loss: 0.1918 - learning_rate: 0.0010\n",
      "Epoch 11/55\n",
      "\u001b[1m5777/5802\u001b[0m \u001b[32m━━━━━━━━━━━━━━━━━━━\u001b[0m\u001b[37m━\u001b[0m \u001b[1m0s\u001b[0m 1ms/step - accuracy: 0.9534 - loss: 0.1197\n",
      "Epoch 11: val_accuracy improved from 0.93409 to 0.93636, saving model to Model_Basic_GAP.keras\n",
      "\u001b[1m5802/5802\u001b[0m \u001b[32m━━━━━━━━━━━━━━━━━━━━\u001b[0m\u001b[37m\u001b[0m \u001b[1m8s\u001b[0m 1ms/step - accuracy: 0.9534 - loss: 0.1197 - val_accuracy: 0.9364 - val_loss: 0.1932 - learning_rate: 1.0000e-04\n",
      "Epoch 12/55\n",
      "\u001b[1m5799/5802\u001b[0m \u001b[32m━━━━━━━━━━━━━━━━━━━\u001b[0m\u001b[37m━\u001b[0m \u001b[1m0s\u001b[0m 1ms/step - accuracy: 0.9549 - loss: 0.1158\n",
      "Epoch 12: val_accuracy improved from 0.93636 to 0.93726, saving model to Model_Basic_GAP.keras\n",
      "\u001b[1m5802/5802\u001b[0m \u001b[32m━━━━━━━━━━━━━━━━━━━━\u001b[0m\u001b[37m\u001b[0m \u001b[1m8s\u001b[0m 1ms/step - accuracy: 0.9549 - loss: 0.1158 - val_accuracy: 0.9373 - val_loss: 0.1949 - learning_rate: 1.0000e-04\n",
      "Epoch 13/55\n",
      "\u001b[1m5768/5802\u001b[0m \u001b[32m━━━━━━━━━━━━━━━━━━━\u001b[0m\u001b[37m━\u001b[0m \u001b[1m0s\u001b[0m 1ms/step - accuracy: 0.9554 - loss: 0.1148\n",
      "Epoch 13: val_accuracy improved from 0.93726 to 0.93730, saving model to Model_Basic_GAP.keras\n",
      "\u001b[1m5802/5802\u001b[0m \u001b[32m━━━━━━━━━━━━━━━━━━━━\u001b[0m\u001b[37m\u001b[0m \u001b[1m8s\u001b[0m 1ms/step - accuracy: 0.9554 - loss: 0.1148 - val_accuracy: 0.9373 - val_loss: 0.1994 - learning_rate: 1.0000e-04\n",
      "Epoch 14/55\n",
      "\u001b[1m5790/5802\u001b[0m \u001b[32m━━━━━━━━━━━━━━━━━━━\u001b[0m\u001b[37m━\u001b[0m \u001b[1m0s\u001b[0m 1ms/step - accuracy: 0.9551 - loss: 0.1135\n",
      "Epoch 14: val_accuracy did not improve from 0.93730\n",
      "\u001b[1m5802/5802\u001b[0m \u001b[32m━━━━━━━━━━━━━━━━━━━━\u001b[0m\u001b[37m\u001b[0m \u001b[1m8s\u001b[0m 1ms/step - accuracy: 0.9551 - loss: 0.1135 - val_accuracy: 0.9356 - val_loss: 0.2072 - learning_rate: 1.0000e-04\n",
      "Epoch 15/55\n",
      "\u001b[1m5787/5802\u001b[0m \u001b[32m━━━━━━━━━━━━━━━━━━━\u001b[0m\u001b[37m━\u001b[0m \u001b[1m0s\u001b[0m 1ms/step - accuracy: 0.9566 - loss: 0.1121\n",
      "Epoch 15: val_accuracy did not improve from 0.93730\n",
      "\n",
      "Epoch 15: ReduceLROnPlateau reducing learning rate to 1.0000000474974514e-05.\n",
      "\u001b[1m5802/5802\u001b[0m \u001b[32m━━━━━━━━━━━━━━━━━━━━\u001b[0m\u001b[37m\u001b[0m \u001b[1m8s\u001b[0m 1ms/step - accuracy: 0.9566 - loss: 0.1121 - val_accuracy: 0.9355 - val_loss: 0.2089 - learning_rate: 1.0000e-04\n",
      "Epoch 16/55\n",
      "\u001b[1m5801/5802\u001b[0m \u001b[32m━━━━━━━━━━━━━━━━━━━\u001b[0m\u001b[37m━\u001b[0m \u001b[1m0s\u001b[0m 1ms/step - accuracy: 0.9581 - loss: 0.1080\n",
      "Epoch 16: val_accuracy improved from 0.93730 to 0.93758, saving model to Model_Basic_GAP.keras\n",
      "\u001b[1m5802/5802\u001b[0m \u001b[32m━━━━━━━━━━━━━━━━━━━━\u001b[0m\u001b[37m\u001b[0m \u001b[1m8s\u001b[0m 1ms/step - accuracy: 0.9581 - loss: 0.1080 - val_accuracy: 0.9376 - val_loss: 0.2050 - learning_rate: 1.0000e-05\n",
      "Epoch 17/55\n",
      "\u001b[1m5799/5802\u001b[0m \u001b[32m━━━━━━━━━━━━━━━━━━━\u001b[0m\u001b[37m━\u001b[0m \u001b[1m0s\u001b[0m 1ms/step - accuracy: 0.9584 - loss: 0.1077\n",
      "Epoch 17: val_accuracy improved from 0.93758 to 0.93769, saving model to Model_Basic_GAP.keras\n",
      "\u001b[1m5802/5802\u001b[0m \u001b[32m━━━━━━━━━━━━━━━━━━━━\u001b[0m\u001b[37m\u001b[0m \u001b[1m8s\u001b[0m 1ms/step - accuracy: 0.9584 - loss: 0.1077 - val_accuracy: 0.9377 - val_loss: 0.2073 - learning_rate: 1.0000e-05\n",
      "Epoch 18/55\n",
      "\u001b[1m5802/5802\u001b[0m \u001b[32m━━━━━━━━━━━━━━━━━━━━\u001b[0m\u001b[37m\u001b[0m \u001b[1m0s\u001b[0m 1ms/step - accuracy: 0.9589 - loss: 0.1067\n",
      "Epoch 18: val_accuracy did not improve from 0.93769\n",
      "\u001b[1m5802/5802\u001b[0m \u001b[32m━━━━━━━━━━━━━━━━━━━━\u001b[0m\u001b[37m\u001b[0m \u001b[1m8s\u001b[0m 1ms/step - accuracy: 0.9589 - loss: 0.1067 - val_accuracy: 0.9376 - val_loss: 0.2073 - learning_rate: 1.0000e-05\n",
      "Epoch 19/55\n",
      "\u001b[1m5782/5802\u001b[0m \u001b[32m━━━━━━━━━━━━━━━━━━━\u001b[0m\u001b[37m━\u001b[0m \u001b[1m0s\u001b[0m 1ms/step - accuracy: 0.9581 - loss: 0.1073\n",
      "Epoch 19: val_accuracy improved from 0.93769 to 0.93774, saving model to Model_Basic_GAP.keras\n",
      "\u001b[1m5802/5802\u001b[0m \u001b[32m━━━━━━━━━━━━━━━━━━━━\u001b[0m\u001b[37m\u001b[0m \u001b[1m9s\u001b[0m 2ms/step - accuracy: 0.9581 - loss: 0.1073 - val_accuracy: 0.9377 - val_loss: 0.2078 - learning_rate: 1.0000e-05\n",
      "Epoch 20/55\n",
      "\u001b[1m5779/5802\u001b[0m \u001b[32m━━━━━━━━━━━━━━━━━━━\u001b[0m\u001b[37m━\u001b[0m \u001b[1m0s\u001b[0m 1ms/step - accuracy: 0.9578 - loss: 0.1087\n",
      "Epoch 20: val_accuracy did not improve from 0.93774\n",
      "\n",
      "Epoch 20: ReduceLROnPlateau reducing learning rate to 1.0000000656873453e-06.\n",
      "\u001b[1m5802/5802\u001b[0m \u001b[32m━━━━━━━━━━━━━━━━━━━━\u001b[0m\u001b[37m\u001b[0m \u001b[1m9s\u001b[0m 2ms/step - accuracy: 0.9578 - loss: 0.1087 - val_accuracy: 0.9374 - val_loss: 0.2085 - learning_rate: 1.0000e-05\n",
      "Epoch 21/55\n",
      "\u001b[1m5801/5802\u001b[0m \u001b[32m━━━━━━━━━━━━━━━━━━━\u001b[0m\u001b[37m━\u001b[0m \u001b[1m0s\u001b[0m 1ms/step - accuracy: 0.9582 - loss: 0.1072\n",
      "Epoch 21: val_accuracy improved from 0.93774 to 0.93778, saving model to Model_Basic_GAP.keras\n",
      "\u001b[1m5802/5802\u001b[0m \u001b[32m━━━━━━━━━━━━━━━━━━━━\u001b[0m\u001b[37m\u001b[0m \u001b[1m9s\u001b[0m 2ms/step - accuracy: 0.9582 - loss: 0.1072 - val_accuracy: 0.9378 - val_loss: 0.2080 - learning_rate: 1.0000e-06\n",
      "Epoch 22/55\n",
      "\u001b[1m5773/5802\u001b[0m \u001b[32m━━━━━━━━━━━━━━━━━━━\u001b[0m\u001b[37m━\u001b[0m \u001b[1m0s\u001b[0m 2ms/step - accuracy: 0.9582 - loss: 0.1058\n",
      "Epoch 22: val_accuracy improved from 0.93778 to 0.93780, saving model to Model_Basic_GAP.keras\n",
      "\u001b[1m5802/5802\u001b[0m \u001b[32m━━━━━━━━━━━━━━━━━━━━\u001b[0m\u001b[37m\u001b[0m \u001b[1m10s\u001b[0m 2ms/step - accuracy: 0.9582 - loss: 0.1059 - val_accuracy: 0.9378 - val_loss: 0.2081 - learning_rate: 1.0000e-06\n",
      "Epoch 23/55\n",
      "\u001b[1m5765/5802\u001b[0m \u001b[32m━━━━━━━━━━━━━━━━━━━\u001b[0m\u001b[37m━\u001b[0m \u001b[1m0s\u001b[0m 1ms/step - accuracy: 0.9586 - loss: 0.1065\n",
      "Epoch 23: val_accuracy did not improve from 0.93780\n",
      "\u001b[1m5802/5802\u001b[0m \u001b[32m━━━━━━━━━━━━━━━━━━━━\u001b[0m\u001b[37m\u001b[0m \u001b[1m9s\u001b[0m 1ms/step - accuracy: 0.9586 - loss: 0.1065 - val_accuracy: 0.9375 - val_loss: 0.2083 - learning_rate: 1.0000e-06\n",
      "Epoch 24/55\n",
      "\u001b[1m5766/5802\u001b[0m \u001b[32m━━━━━━━━━━━━━━━━━━━\u001b[0m\u001b[37m━\u001b[0m \u001b[1m0s\u001b[0m 1ms/step - accuracy: 0.9582 - loss: 0.1085\n",
      "Epoch 24: val_accuracy did not improve from 0.93780\n",
      "\u001b[1m5802/5802\u001b[0m \u001b[32m━━━━━━━━━━━━━━━━━━━━\u001b[0m\u001b[37m\u001b[0m \u001b[1m9s\u001b[0m 2ms/step - accuracy: 0.9582 - loss: 0.1085 - val_accuracy: 0.9377 - val_loss: 0.2085 - learning_rate: 1.0000e-06\n",
      "Epoch 25/55\n",
      "\u001b[1m5784/5802\u001b[0m \u001b[32m━━━━━━━━━━━━━━━━━━━\u001b[0m\u001b[37m━\u001b[0m \u001b[1m0s\u001b[0m 1ms/step - accuracy: 0.9582 - loss: 0.1065\n",
      "Epoch 25: val_accuracy did not improve from 0.93780\n",
      "\n",
      "Epoch 25: ReduceLROnPlateau reducing learning rate to 1.0000001111620805e-07.\n",
      "\u001b[1m5802/5802\u001b[0m \u001b[32m━━━━━━━━━━━━━━━━━━━━\u001b[0m\u001b[37m\u001b[0m \u001b[1m9s\u001b[0m 1ms/step - accuracy: 0.9582 - loss: 0.1065 - val_accuracy: 0.9376 - val_loss: 0.2084 - learning_rate: 1.0000e-06\n",
      "Epoch 26/55\n",
      "\u001b[1m5780/5802\u001b[0m \u001b[32m━━━━━━━━━━━━━━━━━━━\u001b[0m\u001b[37m━\u001b[0m \u001b[1m0s\u001b[0m 1ms/step - accuracy: 0.9596 - loss: 0.1046\n",
      "Epoch 26: val_accuracy did not improve from 0.93780\n",
      "\u001b[1m5802/5802\u001b[0m \u001b[32m━━━━━━━━━━━━━━━━━━━━\u001b[0m\u001b[37m\u001b[0m \u001b[1m9s\u001b[0m 2ms/step - accuracy: 0.9596 - loss: 0.1046 - val_accuracy: 0.9376 - val_loss: 0.2084 - learning_rate: 1.0000e-07\n",
      "Epoch 27/55\n",
      "\u001b[1m5789/5802\u001b[0m \u001b[32m━━━━━━━━━━━━━━━━━━━\u001b[0m\u001b[37m━\u001b[0m \u001b[1m0s\u001b[0m 1ms/step - accuracy: 0.9584 - loss: 0.1072\n",
      "Epoch 27: val_accuracy did not improve from 0.93780\n",
      "\u001b[1m5802/5802\u001b[0m \u001b[32m━━━━━━━━━━━━━━━━━━━━\u001b[0m\u001b[37m\u001b[0m \u001b[1m9s\u001b[0m 2ms/step - accuracy: 0.9584 - loss: 0.1072 - val_accuracy: 0.9376 - val_loss: 0.2084 - learning_rate: 1.0000e-07\n",
      "Epoch 28/55\n",
      "\u001b[1m5794/5802\u001b[0m \u001b[32m━━━━━━━━━━━━━━━━━━━\u001b[0m\u001b[37m━\u001b[0m \u001b[1m0s\u001b[0m 1ms/step - accuracy: 0.9583 - loss: 0.1075\n",
      "Epoch 28: val_accuracy did not improve from 0.93780\n",
      "\u001b[1m5802/5802\u001b[0m \u001b[32m━━━━━━━━━━━━━━━━━━━━\u001b[0m\u001b[37m\u001b[0m \u001b[1m8s\u001b[0m 1ms/step - accuracy: 0.9583 - loss: 0.1074 - val_accuracy: 0.9376 - val_loss: 0.2084 - learning_rate: 1.0000e-07\n",
      "Epoch 29/55\n",
      "\u001b[1m5796/5802\u001b[0m \u001b[32m━━━━━━━━━━━━━━━━━━━\u001b[0m\u001b[37m━\u001b[0m \u001b[1m0s\u001b[0m 1ms/step - accuracy: 0.9589 - loss: 0.1068\n",
      "Epoch 29: val_accuracy did not improve from 0.93780\n",
      "\u001b[1m5802/5802\u001b[0m \u001b[32m━━━━━━━━━━━━━━━━━━━━\u001b[0m\u001b[37m\u001b[0m \u001b[1m9s\u001b[0m 2ms/step - accuracy: 0.9589 - loss: 0.1068 - val_accuracy: 0.9376 - val_loss: 0.2084 - learning_rate: 1.0000e-07\n",
      "Epoch 30/55\n",
      "\u001b[1m5776/5802\u001b[0m \u001b[32m━━━━━━━━━━━━━━━━━━━\u001b[0m\u001b[37m━\u001b[0m \u001b[1m0s\u001b[0m 2ms/step - accuracy: 0.9585 - loss: 0.1080\n",
      "Epoch 30: val_accuracy did not improve from 0.93780\n",
      "\n",
      "Epoch 30: ReduceLROnPlateau reducing learning rate to 1.000000082740371e-08.\n",
      "\u001b[1m5802/5802\u001b[0m \u001b[32m━━━━━━━━━━━━━━━━━━━━\u001b[0m\u001b[37m\u001b[0m \u001b[1m10s\u001b[0m 2ms/step - accuracy: 0.9585 - loss: 0.1080 - val_accuracy: 0.9376 - val_loss: 0.2084 - learning_rate: 1.0000e-07\n",
      "Epoch 31/55\n",
      "\u001b[1m5781/5802\u001b[0m \u001b[32m━━━━━━━━━━━━━━━━━━━\u001b[0m\u001b[37m━\u001b[0m \u001b[1m0s\u001b[0m 1ms/step - accuracy: 0.9586 - loss: 0.1067\n",
      "Epoch 31: val_accuracy did not improve from 0.93780\n",
      "\u001b[1m5802/5802\u001b[0m \u001b[32m━━━━━━━━━━━━━━━━━━━━\u001b[0m\u001b[37m\u001b[0m \u001b[1m9s\u001b[0m 2ms/step - accuracy: 0.9586 - loss: 0.1067 - val_accuracy: 0.9376 - val_loss: 0.2084 - learning_rate: 1.0000e-08\n",
      "Epoch 32/55\n",
      "\u001b[1m5781/5802\u001b[0m \u001b[32m━━━━━━━━━━━━━━━━━━━\u001b[0m\u001b[37m━\u001b[0m \u001b[1m0s\u001b[0m 1ms/step - accuracy: 0.9585 - loss: 0.1073\n",
      "Epoch 32: val_accuracy did not improve from 0.93780\n",
      "\u001b[1m5802/5802\u001b[0m \u001b[32m━━━━━━━━━━━━━━━━━━━━\u001b[0m\u001b[37m\u001b[0m \u001b[1m10s\u001b[0m 2ms/step - accuracy: 0.9585 - loss: 0.1073 - val_accuracy: 0.9376 - val_loss: 0.2084 - learning_rate: 1.0000e-08\n",
      "Epoch 32: early stopping\n",
      "Restoring model weights from the end of the best epoch: 22.\n"
     ]
    }
   ],
   "source": [
    "num_epochs = 55\n",
    "\n",
    "# Train the model\n",
    "history_GlobalAveragePooling1D = model_GlobalAveragePooling1D.fit(training_padded, training_labels, epochs=num_epochs, validation_data=(testing_padded, testing_labels), callbacks=callbacks)"
   ]
  },
  {
   "cell_type": "code",
   "execution_count": 118,
   "metadata": {},
   "outputs": [
    {
     "name": "stdout",
     "output_type": "stream",
     "text": [
      "dict_keys(['accuracy', 'loss', 'val_accuracy', 'val_loss', 'learning_rate'])\n"
     ]
    }
   ],
   "source": [
    "print(history_GlobalAveragePooling1D.history.keys())\n"
   ]
  },
  {
   "cell_type": "code",
   "execution_count": 119,
   "metadata": {},
   "outputs": [
    {
     "name": "stdout",
     "output_type": "stream",
     "text": [
      "\u001b[1m1451/1451\u001b[0m \u001b[32m━━━━━━━━━━━━━━━━━━━━\u001b[0m\u001b[37m\u001b[0m \u001b[1m1s\u001b[0m 685us/step - accuracy: 0.9380 - loss: 0.2048\n",
      "Test results - Loss: 0.20806433260440826 - Accuracy: 93.78002882003784%\n"
     ]
    }
   ],
   "source": [
    "# Evaluate the model\n",
    "results_GlobalAveragePooling1D = model_GlobalAveragePooling1D.evaluate(testing_padded, testing_labels)\n",
    "\n",
    "# print results\n",
    "print(f'Test results - Loss: {results_GlobalAveragePooling1D[0]} - Accuracy: {100*results_GlobalAveragePooling1D[1]}%')"
   ]
  },
  {
   "cell_type": "code",
   "execution_count": 120,
   "metadata": {},
   "outputs": [
    {
     "name": "stdout",
     "output_type": "stream",
     "text": [
      "{'accuracy': [0.896374523639679, 0.9227023720741272, 0.9302377104759216, 0.9346113204956055, 0.9362918138504028, 0.9384947419166565, 0.9407516121864319, 0.9417749643325806, 0.9432238936424255, 0.9438433051109314, 0.9542494416236877, 0.9551489353179932, 0.9558491706848145, 0.9558438062667847, 0.9567701816558838, 0.9581329226493835, 0.9581275582313538, 0.9582783579826355, 0.9583376049995422, 0.9582191109657288, 0.9583860635757446, 0.9583591222763062, 0.9583214521408081, 0.9583752751350403, 0.9583537578582764, 0.9583591222763062, 0.9583752751350403, 0.9583376049995422, 0.9583537578582764, 0.958342969417572, 0.9583483934402466, 0.9583483934402466], 'loss': [0.25875553488731384, 0.20105570554733276, 0.18321596086025238, 0.17241506278514862, 0.1658036857843399, 0.16011881828308105, 0.15341109037399292, 0.1503329575061798, 0.14665991067886353, 0.14426487684249878, 0.11727769672870636, 0.11525199562311172, 0.11386147141456604, 0.11295441538095474, 0.11163751780986786, 0.10820557177066803, 0.10795596987009048, 0.1078391894698143, 0.10770317912101746, 0.10756029933691025, 0.10724363476037979, 0.10719888657331467, 0.10719350725412369, 0.10716541856527328, 0.10716503858566284, 0.10711879283189774, 0.10711655765771866, 0.1071150004863739, 0.10711375623941422, 0.10711304843425751, 0.107107013463974, 0.10710699111223221], 'val_accuracy': [0.9262738227844238, 0.9175697565078735, 0.9324141144752502, 0.932564914226532, 0.933814525604248, 0.9252396821975708, 0.9308197498321533, 0.9274157285690308, 0.9340946078300476, 0.9329957962036133, 0.936356782913208, 0.9372616410255432, 0.9373047351837158, 0.9355811476707458, 0.9355380535125732, 0.9375848174095154, 0.9376925826072693, 0.9376494884490967, 0.9377356171607971, 0.937390923500061, 0.9377787113189697, 0.9378002882003784, 0.9375417232513428, 0.9376925826072693, 0.9376494884490967, 0.9376494884490967, 0.937627911567688, 0.937627911567688, 0.937627911567688, 0.9376494884490967, 0.937627911567688, 0.937627911567688], 'val_loss': [0.20223307609558105, 0.21671883761882782, 0.18449604511260986, 0.17499348521232605, 0.1722707450389862, 0.19360323250293732, 0.19947049021720886, 0.18954309821128845, 0.17643390595912933, 0.19181211292743683, 0.19324825704097748, 0.19489215314388275, 0.1993861198425293, 0.207158163189888, 0.20892493426799774, 0.20503610372543335, 0.2073107808828354, 0.20732472836971283, 0.20782022178173065, 0.20850326120853424, 0.20795667171478271, 0.20806433260440826, 0.2083098441362381, 0.20847538113594055, 0.20838402211666107, 0.20838488638401031, 0.208394855260849, 0.20841024816036224, 0.20841346681118011, 0.20841747522354126, 0.20841650664806366, 0.2084151804447174], 'learning_rate': [0.0010000000474974513, 0.0010000000474974513, 0.0010000000474974513, 0.0010000000474974513, 0.0010000000474974513, 0.0010000000474974513, 0.0010000000474974513, 0.0010000000474974513, 0.0010000000474974513, 0.0010000000474974513, 0.00010000000474974513, 0.00010000000474974513, 0.00010000000474974513, 0.00010000000474974513, 0.00010000000474974513, 1.0000000656873453e-05, 1.0000000656873453e-05, 1.0000000656873453e-05, 1.0000000656873453e-05, 1.0000000656873453e-05, 1.0000001111620804e-06, 1.0000001111620804e-06, 1.0000001111620804e-06, 1.0000001111620804e-06, 1.0000001111620804e-06, 1.000000082740371e-07, 1.000000082740371e-07, 1.000000082740371e-07, 1.000000082740371e-07, 1.000000082740371e-07, 1.000000082740371e-08, 1.000000082740371e-08]}\n"
     ]
    }
   ],
   "source": [
    "# After training\n",
    "print(history_GlobalAveragePooling1D.history)\n"
   ]
  },
  {
   "cell_type": "code",
   "execution_count": 121,
   "metadata": {
    "id": "7lb9p_i4Ek4L",
    "outputId": "d9ee52e8-a47b-492e-a4f7-80afa24eed24",
    "tags": []
   },
   "outputs": [
    {
     "name": "stdout",
     "output_type": "stream",
     "text": [
      "dict_keys(['accuracy', 'loss', 'val_accuracy', 'val_loss', 'learning_rate'])\n"
     ]
    },
    {
     "data": {
      "image/png": "[encoded data removed]",
      "text/plain": [
       "<Figure size 640x480 with 1 Axes>"
      ]
     },
     "metadata": {},
     "output_type": "display_data"
    },
    {
     "data": {
      "image/png": "[encoded data removed]",
      "text/plain": [
       "<Figure size 640x480 with 1 Axes>"
      ]
     },
     "metadata": {},
     "output_type": "display_data"
    }
   ],
   "source": [
    "# Check the keys in the history to ensure you use the right ones\n",
    "print(history_GlobalAveragePooling1D.history.keys())\n",
    "\n",
    "# Plot utility\n",
    "def plot_graphs(history, metric):\n",
    "    # Check if 'val_' is in the history\n",
    "    if f'val_{metric}' in history.history:\n",
    "        plt.plot(history.history[metric])\n",
    "        plt.plot(history.history[f'val_{metric}'])\n",
    "        plt.xlabel(\"Epochs\")\n",
    "        plt.ylabel(metric)\n",
    "        plt.legend([metric, f'val_{metric}'])\n",
    "        plt.show()\n",
    "    else:\n",
    "        print(f\"Validation metric {metric} not found in history.\")\n",
    "\n",
    "# Plot the accuracy and loss\n",
    "plot_graphs(history_GlobalAveragePooling1D, \"accuracy\")  # Adjust the name if it's different\n",
    "plot_graphs(history_GlobalAveragePooling1D, \"loss\")  # Adjust the name if it's different\n"
   ]
  },
  {
   "cell_type": "code",
   "execution_count": 142,
   "metadata": {},
   "outputs": [
    {
     "name": "stdout",
     "output_type": "stream",
     "text": [
      "\u001b[1m1/1\u001b[0m \u001b[32m━━━━━━━━━━━━━━━━━━━━\u001b[0m\u001b[37m\u001b[0m \u001b[1m0s\u001b[0m 84ms/step\n",
      "                                                Text Predicted Label\n",
      "0  I'm feeling hopeless and lost. Nothing seems t...        Positive\n",
      "1  Today was a good day, and I managed to complet...        Positive\n",
      "2  I feel anxious about tomorrow's meeting. I hop...        Positive\n",
      "3  Sometimes I just want to disappear. The pressu...        Negative\n",
      "4  Had a great time with friends today, felt genu...        Positive\n",
      "5  I can't handle this stress anymore. It feels l...        Positive\n",
      "6  Looking forward to starting a new hobby. It mi...        Negative\n",
      "7  I hate myself. Every little thing I do seems t...        Negative\n",
      "8  Life has been tough, but I'm trying to stay st...        Negative\n",
      "9  I don't know how much longer I can keep preten...        Positive\n"
     ]
    },
    {
     "data": {
      "image/png": "[encoded data removed]",
      "text/plain": [
       "<Figure size 640x480 with 1 Axes>"
      ]
     },
     "metadata": {},
     "output_type": "display_data"
    }
   ],
   "source": [
    "import numpy as np\n",
    "from tensorflow.keras.models import load_model  # Use tensorflow.keras\n",
    "from tensorflow.keras.preprocessing.text import Tokenizer  # Use tensorflow.keras\n",
    "from tensorflow.keras.preprocessing.sequence import pad_sequences  # Use tensorflow.keras\n",
    "import pandas as pd\n",
    "import matplotlib.pyplot as plt\n",
    "\n",
    "# Load the trained model (adjust path as necessary)\n",
    "model = load_model(\"Model_Basic_GAP.keras\")\n",
    "\n",
    "# Real-world data (example)\n",
    "real_data_text = [\n",
    "    \"I'm feeling hopeless and lost. Nothing seems to matter anymore.\",\n",
    "    \"Today was a good day, and I managed to complete everything on my to-do list.\",\n",
    "    \"I feel anxious about tomorrow's meeting. I hope it goes well.\",\n",
    "    \"Sometimes I just want to disappear. The pressure is too much to handle.\",\n",
    "    \"Had a great time with friends today, felt genuinely happy for the first time in a while.\",\n",
    "    \"I can't handle this stress anymore. It feels like there's no way out.\",\n",
    "    \"Looking forward to starting a new hobby. It might help me feel better.\",\n",
    "    \"I hate myself. Every little thing I do seems to go wrong.\",\n",
    "    \"Life has been tough, but I'm trying to stay strong and positive.\",\n",
    "    \"I don't know how much longer I can keep pretending everything is fine.\"\n",
    "]\n",
    "\n",
    "\n",
    "# Tokenizer (fit it on real data, or load the one used during training)\n",
    "tokenizer = Tokenizer(num_words=20000)\n",
    "tokenizer.fit_on_texts(real_data_text)  # Or load saved tokenizer as shown before\n",
    "\n",
    "# Convert real data text to sequences and pad\n",
    "max_length = 200\n",
    "real_data_sequences = tokenizer.texts_to_sequences(real_data_text)\n",
    "real_data_padded = pad_sequences(real_data_sequences, maxlen=max_length, padding='post', truncating='post')\n",
    "\n",
    "# Make predictions\n",
    "predictions = model.predict(real_data_padded)\n",
    "\n",
    "# Convert probabilities to binary labels (for binary classification)\n",
    "predicted_labels = (predictions > 0.5).astype(\"int32\")\n",
    "\n",
    "# Create a DataFrame for easy visualization\n",
    "results_df = pd.DataFrame({\n",
    "    'Text': real_data_text,\n",
    "    'Predicted Label': ['Positive' if label == 1 else 'Negative' for label in predicted_labels.flatten()]\n",
    "})\n",
    "\n",
    "# Print the results\n",
    "print(results_df)\n",
    "\n",
    "# Optionally, plot the prediction distribution\n",
    "label_counts = results_df['Predicted Label'].value_counts()\n",
    "label_counts.plot(kind='bar', color=['green', 'red'])\n",
    "plt.xlabel('Label')\n",
    "plt.ylabel('Count')\n",
    "plt.title('Predicted Label Distribution')\n",
    "plt.show()\n"
   ]
  },
  {
   "attachments": {},
   "cell_type": "markdown",
   "metadata": {
    "id": "sffDRy1uEk4N"
   },
   "source": [
    "# Model Embedding + Conv1D"
   ]
  },
  {
   "cell_type": "code",
   "execution_count": 123,
   "metadata": {
    "id": "vbpy4arMEk4N"
   },
   "outputs": [
    {
     "data": {
      "text/html": [
       "<pre style=\"white-space:pre;overflow-x:auto;line-height:normal;font-family:Menlo,'DejaVu Sans Mono',consolas,'Courier New',monospace\"><span style=\"font-weight: bold\">Model: \"sequential_5\"</span>\n",
       "</pre>\n"
      ],
      "text/plain": [
       "\u001b[1mModel: \"sequential_5\"\u001b[0m\n"
      ]
     },
     "metadata": {},
     "output_type": "display_data"
    },
    {
     "data": {
      "text/html": [
       "<pre style=\"white-space:pre;overflow-x:auto;line-height:normal;font-family:Menlo,'DejaVu Sans Mono',consolas,'Courier New',monospace\">┏━━━━━━━━━━━━━━━━━━━━━━━━━━━━━━━━━┳━━━━━━━━━━━━━━━━━━━━━━━━┳━━━━━━━━━━━━━━━┓\n",
       "┃<span style=\"font-weight: bold\"> Layer (type)                    </span>┃<span style=\"font-weight: bold\"> Output Shape           </span>┃<span style=\"font-weight: bold\">       Param # </span>┃\n",
       "┡━━━━━━━━━━━━━━━━━━━━━━━━━━━━━━━━━╇━━━━━━━━━━━━━━━━━━━━━━━━╇━━━━━━━━━━━━━━━┩\n",
       "│ embedding_5 (<span style=\"color: #0087ff; text-decoration-color: #0087ff\">Embedding</span>)         │ ?                      │   <span style=\"color: #00af00; text-decoration-color: #00af00\">0</span> (unbuilt) │\n",
       "├─────────────────────────────────┼────────────────────────┼───────────────┤\n",
       "│ conv1d_1 (<span style=\"color: #0087ff; text-decoration-color: #0087ff\">Conv1D</span>)               │ ?                      │   <span style=\"color: #00af00; text-decoration-color: #00af00\">0</span> (unbuilt) │\n",
       "├─────────────────────────────────┼────────────────────────┼───────────────┤\n",
       "│ global_max_pooling1d_1          │ ?                      │   <span style=\"color: #00af00; text-decoration-color: #00af00\">0</span> (unbuilt) │\n",
       "│ (<span style=\"color: #0087ff; text-decoration-color: #0087ff\">GlobalMaxPooling1D</span>)            │                        │               │\n",
       "├─────────────────────────────────┼────────────────────────┼───────────────┤\n",
       "│ dense_17 (<span style=\"color: #0087ff; text-decoration-color: #0087ff\">Dense</span>)                │ ?                      │   <span style=\"color: #00af00; text-decoration-color: #00af00\">0</span> (unbuilt) │\n",
       "├─────────────────────────────────┼────────────────────────┼───────────────┤\n",
       "│ dense_18 (<span style=\"color: #0087ff; text-decoration-color: #0087ff\">Dense</span>)                │ ?                      │   <span style=\"color: #00af00; text-decoration-color: #00af00\">0</span> (unbuilt) │\n",
       "├─────────────────────────────────┼────────────────────────┼───────────────┤\n",
       "│ dense_19 (<span style=\"color: #0087ff; text-decoration-color: #0087ff\">Dense</span>)                │ ?                      │   <span style=\"color: #00af00; text-decoration-color: #00af00\">0</span> (unbuilt) │\n",
       "├─────────────────────────────────┼────────────────────────┼───────────────┤\n",
       "│ dense_20 (<span style=\"color: #0087ff; text-decoration-color: #0087ff\">Dense</span>)                │ ?                      │   <span style=\"color: #00af00; text-decoration-color: #00af00\">0</span> (unbuilt) │\n",
       "└─────────────────────────────────┴────────────────────────┴───────────────┘\n",
       "</pre>\n"
      ],
      "text/plain": [
       "┏━━━━━━━━━━━━━━━━━━━━━━━━━━━━━━━━━┳━━━━━━━━━━━━━━━━━━━━━━━━┳━━━━━━━━━━━━━━━┓\n",
       "┃\u001b[1m \u001b[0m\u001b[1mLayer (type)                   \u001b[0m\u001b[1m \u001b[0m┃\u001b[1m \u001b[0m\u001b[1mOutput Shape          \u001b[0m\u001b[1m \u001b[0m┃\u001b[1m \u001b[0m\u001b[1m      Param #\u001b[0m\u001b[1m \u001b[0m┃\n",
       "┡━━━━━━━━━━━━━━━━━━━━━━━━━━━━━━━━━╇━━━━━━━━━━━━━━━━━━━━━━━━╇━━━━━━━━━━━━━━━┩\n",
       "│ embedding_5 (\u001b[38;5;33mEmbedding\u001b[0m)         │ ?                      │   \u001b[38;5;34m0\u001b[0m (unbuilt) │\n",
       "├─────────────────────────────────┼────────────────────────┼───────────────┤\n",
       "│ conv1d_1 (\u001b[38;5;33mConv1D\u001b[0m)               │ ?                      │   \u001b[38;5;34m0\u001b[0m (unbuilt) │\n",
       "├─────────────────────────────────┼────────────────────────┼───────────────┤\n",
       "│ global_max_pooling1d_1          │ ?                      │   \u001b[38;5;34m0\u001b[0m (unbuilt) │\n",
       "│ (\u001b[38;5;33mGlobalMaxPooling1D\u001b[0m)            │                        │               │\n",
       "├─────────────────────────────────┼────────────────────────┼───────────────┤\n",
       "│ dense_17 (\u001b[38;5;33mDense\u001b[0m)                │ ?                      │   \u001b[38;5;34m0\u001b[0m (unbuilt) │\n",
       "├─────────────────────────────────┼────────────────────────┼───────────────┤\n",
       "│ dense_18 (\u001b[38;5;33mDense\u001b[0m)                │ ?                      │   \u001b[38;5;34m0\u001b[0m (unbuilt) │\n",
       "├─────────────────────────────────┼────────────────────────┼───────────────┤\n",
       "│ dense_19 (\u001b[38;5;33mDense\u001b[0m)                │ ?                      │   \u001b[38;5;34m0\u001b[0m (unbuilt) │\n",
       "├─────────────────────────────────┼────────────────────────┼───────────────┤\n",
       "│ dense_20 (\u001b[38;5;33mDense\u001b[0m)                │ ?                      │   \u001b[38;5;34m0\u001b[0m (unbuilt) │\n",
       "└─────────────────────────────────┴────────────────────────┴───────────────┘\n"
      ]
     },
     "metadata": {},
     "output_type": "display_data"
    },
    {
     "data": {
      "text/html": [
       "<pre style=\"white-space:pre;overflow-x:auto;line-height:normal;font-family:Menlo,'DejaVu Sans Mono',consolas,'Courier New',monospace\"><span style=\"font-weight: bold\"> Total params: </span><span style=\"color: #00af00; text-decoration-color: #00af00\">0</span> (0.00 B)\n",
       "</pre>\n"
      ],
      "text/plain": [
       "\u001b[1m Total params: \u001b[0m\u001b[38;5;34m0\u001b[0m (0.00 B)\n"
      ]
     },
     "metadata": {},
     "output_type": "display_data"
    },
    {
     "data": {
      "text/html": [
       "<pre style=\"white-space:pre;overflow-x:auto;line-height:normal;font-family:Menlo,'DejaVu Sans Mono',consolas,'Courier New',monospace\"><span style=\"font-weight: bold\"> Trainable params: </span><span style=\"color: #00af00; text-decoration-color: #00af00\">0</span> (0.00 B)\n",
       "</pre>\n"
      ],
      "text/plain": [
       "\u001b[1m Trainable params: \u001b[0m\u001b[38;5;34m0\u001b[0m (0.00 B)\n"
      ]
     },
     "metadata": {},
     "output_type": "display_data"
    },
    {
     "data": {
      "text/html": [
       "<pre style=\"white-space:pre;overflow-x:auto;line-height:normal;font-family:Menlo,'DejaVu Sans Mono',consolas,'Courier New',monospace\"><span style=\"font-weight: bold\"> Non-trainable params: </span><span style=\"color: #00af00; text-decoration-color: #00af00\">0</span> (0.00 B)\n",
       "</pre>\n"
      ],
      "text/plain": [
       "\u001b[1m Non-trainable params: \u001b[0m\u001b[38;5;34m0\u001b[0m (0.00 B)\n"
      ]
     },
     "metadata": {},
     "output_type": "display_data"
    }
   ],
   "source": [
    "import tensorflow as tf  # Import TensorFlow\n",
    "\n",
    "# Define parameters\n",
    "vocab_size = 20000  # This is a common size for vocabulary in NLP tasks\n",
    "embedding_dim = 128  # The dimension of the embedding layer\n",
    "max_length = 200  # Maximum length of input sequences\n",
    "\n",
    "# Set kernel size and number of filters\n",
    "kernel_size = 5\n",
    "filters = 128\n",
    "\n",
    "# Initialize the model\n",
    "model_Conv1D = tf.keras.Sequential([\n",
    "    tf.keras.layers.Embedding(vocab_size, embedding_dim, input_length=max_length),\n",
    "    tf.keras.layers.Conv1D(filters=filters, kernel_size=kernel_size, activation='relu'),\n",
    "    tf.keras.layers.GlobalMaxPooling1D(),\n",
    "    tf.keras.layers.Dense(128, activation='relu'),\n",
    "    tf.keras.layers.Dense(128, activation='relu'),\n",
    "    tf.keras.layers.Dense(128, activation='relu'),\n",
    "    tf.keras.layers.Dense(1, activation='sigmoid')\n",
    "])\n",
    "\n",
    "# Compile the model\n",
    "model_Conv1D.compile(loss='binary_crossentropy', optimizer='adam', metrics=['accuracy'])\n",
    "\n",
    "# Print the model summary\n",
    "model_Conv1D.summary()\n"
   ]
  },
  {
   "cell_type": "code",
   "execution_count": 124,
   "metadata": {},
   "outputs": [],
   "source": [
    "from tensorflow.keras.callbacks import ModelCheckpoint, EarlyStopping, ReduceLROnPlateau\n",
    "\n",
    "# Define the callbacks\n",
    "# Save the best model\n",
    "checkpoint_callback = ModelCheckpoint(filepath=\"Model_Embedding_Conv1D.keras\", \n",
    "                                       save_best_only=True, \n",
    "                                       monitor=\"val_accuracy\", \n",
    "                                       mode=\"max\", \n",
    "                                       verbose=1)\n",
    "\n",
    "# Early stopping\n",
    "early_stopping_callback = EarlyStopping(monitor=\"val_accuracy\", \n",
    "                                        mode=\"max\", \n",
    "                                        patience=10, \n",
    "                                        verbose=1, \n",
    "                                        restore_best_weights=True)\n",
    "\n",
    "# Reduce learning rate on plateau\n",
    "reduce_lr_callback = ReduceLROnPlateau(monitor=\"val_loss\", \n",
    "                                       factor=0.1, \n",
    "                                       patience=5, \n",
    "                                       verbose=1, \n",
    "                                       mode=\"min\", \n",
    "                                       min_delta=0.0001, \n",
    "                                       cooldown=0, \n",
    "                                       min_lr=0)\n",
    "\n",
    "# Callbacks list\n",
    "callbacks = [checkpoint_callback, early_stopping_callback, reduce_lr_callback]\n"
   ]
  },
  {
   "cell_type": "code",
   "execution_count": 136,
   "metadata": {},
   "outputs": [
    {
     "name": "stdout",
     "output_type": "stream",
     "text": [
      "Training Padded Sequences:\n",
      " [[17  1  2  5 18 19  1  6  7 20 21  8 22 23 24  9  3 25 26  2  5 27 28 29\n",
      "   3 30 31 32 33 34 10  9 11 35 36  2 37 38  4 39 12 13 40 41 42 43 44 45\n",
      "   1 46 47  4  7 48 14 49 50 51 52 53  3 54  8 12  0  0  0  0  0  0  0  0\n",
      "   0  0  0  0  0  0  0  0  0  0  0  0  0  0  0  0  0  0  0  0  0  0  0  0\n",
      "   0  0  0  0  0  0  0  0  0  0  0  0  0  0  0  0  0  0  0  0  0  0  0  0\n",
      "   0  0  0  0  0  0  0  0  0  0  0  0  0  0  0  0  0  0  0  0  0  0  0  0\n",
      "   0  0  0  0  0  0  0  0  0  0  0  0  0  0  0  0  0  0  0  0  0  0  0  0\n",
      "   0  0  0  0  0  0  0  0  0  0  0  0  0  0  0  0  0  0  0  0  0  0  0  0\n",
      "   0  0  0  0  0  0  0  0]\n",
      " [55  4 56 57 10 58 11 59 14 13  6 60 61  0  0  0  0  0  0  0  0  0  0  0\n",
      "   0  0  0  0  0  0  0  0  0  0  0  0  0  0  0  0  0  0  0  0  0  0  0  0\n",
      "   0  0  0  0  0  0  0  0  0  0  0  0  0  0  0  0  0  0  0  0  0  0  0  0\n",
      "   0  0  0  0  0  0  0  0  0  0  0  0  0  0  0  0  0  0  0  0  0  0  0  0\n",
      "   0  0  0  0  0  0  0  0  0  0  0  0  0  0  0  0  0  0  0  0  0  0  0  0\n",
      "   0  0  0  0  0  0  0  0  0  0  0  0  0  0  0  0  0  0  0  0  0  0  0  0\n",
      "   0  0  0  0  0  0  0  0  0  0  0  0  0  0  0  0  0  0  0  0  0  0  0  0\n",
      "   0  0  0  0  0  0  0  0  0  0  0  0  0  0  0  0  0  0  0  0  0  0  0  0\n",
      "   0  0  0  0  0  0  0  0]\n",
      " [62 63 64 65 66 67 68 69 70 71 72  0  0  0  0  0  0  0  0  0  0  0  0  0\n",
      "   0  0  0  0  0  0  0  0  0  0  0  0  0  0  0  0  0  0  0  0  0  0  0  0\n",
      "   0  0  0  0  0  0  0  0  0  0  0  0  0  0  0  0  0  0  0  0  0  0  0  0\n",
      "   0  0  0  0  0  0  0  0  0  0  0  0  0  0  0  0  0  0  0  0  0  0  0  0\n",
      "   0  0  0  0  0  0  0  0  0  0  0  0  0  0  0  0  0  0  0  0  0  0  0  0\n",
      "   0  0  0  0  0  0  0  0  0  0  0  0  0  0  0  0  0  0  0  0  0  0  0  0\n",
      "   0  0  0  0  0  0  0  0  0  0  0  0  0  0  0  0  0  0  0  0  0  0  0  0\n",
      "   0  0  0  0  0  0  0  0  0  0  0  0  0  0  0  0  0  0  0  0  0  0  0  0\n",
      "   0  0  0  0  0  0  0  0]\n",
      " [73 15 74 15 75 76 77  0  0  0  0  0  0  0  0  0  0  0  0  0  0  0  0  0\n",
      "   0  0  0  0  0  0  0  0  0  0  0  0  0  0  0  0  0  0  0  0  0  0  0  0\n",
      "   0  0  0  0  0  0  0  0  0  0  0  0  0  0  0  0  0  0  0  0  0  0  0  0\n",
      "   0  0  0  0  0  0  0  0  0  0  0  0  0  0  0  0  0  0  0  0  0  0  0  0\n",
      "   0  0  0  0  0  0  0  0  0  0  0  0  0  0  0  0  0  0  0  0  0  0  0  0\n",
      "   0  0  0  0  0  0  0  0  0  0  0  0  0  0  0  0  0  0  0  0  0  0  0  0\n",
      "   0  0  0  0  0  0  0  0  0  0  0  0  0  0  0  0  0  0  0  0  0  0  0  0\n",
      "   0  0  0  0  0  0  0  0  0  0  0  0  0  0  0  0  0  0  0  0  0  0  0  0\n",
      "   0  0  0  0  0  0  0  0]]\n",
      "Testing Padded Sequences:\n",
      " [[16 78 79 80 81 82  0  0  0  0  0  0  0  0  0  0  0  0  0  0  0  0  0  0\n",
      "   0  0  0  0  0  0  0  0  0  0  0  0  0  0  0  0  0  0  0  0  0  0  0  0\n",
      "   0  0  0  0  0  0  0  0  0  0  0  0  0  0  0  0  0  0  0  0  0  0  0  0\n",
      "   0  0  0  0  0  0  0  0  0  0  0  0  0  0  0  0  0  0  0  0  0  0  0  0\n",
      "   0  0  0  0  0  0  0  0  0  0  0  0  0  0  0  0  0  0  0  0  0  0  0  0\n",
      "   0  0  0  0  0  0  0  0  0  0  0  0  0  0  0  0  0  0  0  0  0  0  0  0\n",
      "   0  0  0  0  0  0  0  0  0  0  0  0  0  0  0  0  0  0  0  0  0  0  0  0\n",
      "   0  0  0  0  0  0  0  0  0  0  0  0  0  0  0  0  0  0  0  0  0  0  0  0\n",
      "   0  0  0  0  0  0  0  0]\n",
      " [16 83 84 85  0  0  0  0  0  0  0  0  0  0  0  0  0  0  0  0  0  0  0  0\n",
      "   0  0  0  0  0  0  0  0  0  0  0  0  0  0  0  0  0  0  0  0  0  0  0  0\n",
      "   0  0  0  0  0  0  0  0  0  0  0  0  0  0  0  0  0  0  0  0  0  0  0  0\n",
      "   0  0  0  0  0  0  0  0  0  0  0  0  0  0  0  0  0  0  0  0  0  0  0  0\n",
      "   0  0  0  0  0  0  0  0  0  0  0  0  0  0  0  0  0  0  0  0  0  0  0  0\n",
      "   0  0  0  0  0  0  0  0  0  0  0  0  0  0  0  0  0  0  0  0  0  0  0  0\n",
      "   0  0  0  0  0  0  0  0  0  0  0  0  0  0  0  0  0  0  0  0  0  0  0  0\n",
      "   0  0  0  0  0  0  0  0  0  0  0  0  0  0  0  0  0  0  0  0  0  0  0  0\n",
      "   0  0  0  0  0  0  0  0]\n",
      " [86 87  0  0  0  0  0  0  0  0  0  0  0  0  0  0  0  0  0  0  0  0  0  0\n",
      "   0  0  0  0  0  0  0  0  0  0  0  0  0  0  0  0  0  0  0  0  0  0  0  0\n",
      "   0  0  0  0  0  0  0  0  0  0  0  0  0  0  0  0  0  0  0  0  0  0  0  0\n",
      "   0  0  0  0  0  0  0  0  0  0  0  0  0  0  0  0  0  0  0  0  0  0  0  0\n",
      "   0  0  0  0  0  0  0  0  0  0  0  0  0  0  0  0  0  0  0  0  0  0  0  0\n",
      "   0  0  0  0  0  0  0  0  0  0  0  0  0  0  0  0  0  0  0  0  0  0  0  0\n",
      "   0  0  0  0  0  0  0  0  0  0  0  0  0  0  0  0  0  0  0  0  0  0  0  0\n",
      "   0  0  0  0  0  0  0  0  0  0  0  0  0  0  0  0  0  0  0  0  0  0  0  0\n",
      "   0  0  0  0  0  0  0  0]]\n"
     ]
    }
   ],
   "source": [
    "from tensorflow.keras.preprocessing.text import Tokenizer\n",
    "from tensorflow.keras.preprocessing.sequence import pad_sequences\n",
    "import numpy as np\n",
    "\n",
    "# Updated training text data\n",
    "training_texts = [\n",
    "    \"Ex wife threaten suicide. Rec left wife good. Cheat twice, lie much, decide refuse go back. Day ago began threaten suicide tirelessly. Spent past day talking, keep hesitating. Want believe come back. Know lot people threaten in order get way. Happen really suppose handle death hand? Still love wife, cannot deal get cheat constantly. Feel insecure, worry today may be day. Hope much happen.\",\n",
    "    \"Weird get affect compliment come someone know irl. Feel really good internet stranger.\",\n",
    "    \"Final almost never hear bad year ever. Swear fuck god annoy.\",\n",
    "    \"Need help. Just help. I'm crying hard.\"\n",
    "]\n",
    "\n",
    "# Example testing texts (unchanged)\n",
    "testing_texts = [\"i wnat to enjoy my life\", \"i wanna kill myself\", \"im dead\"]\n",
    "\n",
    "# Tokenizer setup\n",
    "vocab_size = 20000  # Adjust as needed\n",
    "max_length = 200    # Maximum length for padding\n",
    "embedding_dim = 128 # Embedding dimension\n",
    "\n",
    "tokenizer = Tokenizer(num_words=vocab_size)\n",
    "tokenizer.fit_on_texts(training_texts + testing_texts)  # Fit on both train and test texts\n",
    "\n",
    "# Convert text to sequences\n",
    "training_sequences = tokenizer.texts_to_sequences(training_texts)\n",
    "testing_sequences = tokenizer.texts_to_sequences(testing_texts)\n",
    "\n",
    "# Pad sequences to ensure equal input length\n",
    "training_padded = pad_sequences(training_sequences, maxlen=max_length, padding='post', truncating='post')\n",
    "testing_padded = pad_sequences(testing_sequences, maxlen=max_length, padding='post', truncating='post')\n",
    "\n",
    "# Convert labels to numpy arrays (replace with actual labels)\n",
    "training_labels = np.array([1, 0, 1, 0])  # Example labels\n",
    "testing_labels = np.array([0, 1, 0])      # Example labels\n",
    "\n",
    "# Check the processed padded sequences\n",
    "print(\"Training Padded Sequences:\\n\", training_padded)\n",
    "print(\"Testing Padded Sequences:\\n\", testing_padded)\n"
   ]
  },
  {
   "cell_type": "code",
   "execution_count": 126,
   "metadata": {
    "id": "WNv2Rk3bEk4N"
   },
   "outputs": [
    {
     "name": "stdout",
     "output_type": "stream",
     "text": [
      "Epoch 1/55\n",
      "\u001b[1m1/1\u001b[0m \u001b[32m━━━━━━━━━━━━━━━━━━━━\u001b[0m\u001b[37m\u001b[0m \u001b[1m0s\u001b[0m 2s/step - accuracy: 0.3333 - loss: 0.6940\n",
      "Epoch 1: val_accuracy improved from -inf to 0.33333, saving model to Model_Embedding_Conv1D.keras\n",
      "\u001b[1m1/1\u001b[0m \u001b[32m━━━━━━━━━━━━━━━━━━━━\u001b[0m\u001b[37m\u001b[0m \u001b[1m3s\u001b[0m 3s/step - accuracy: 0.3333 - loss: 0.6940 - val_accuracy: 0.3333 - val_loss: 0.6980 - learning_rate: 0.0010\n",
      "Epoch 2/55\n",
      "\u001b[1m1/1\u001b[0m \u001b[32m━━━━━━━━━━━━━━━━━━━━\u001b[0m\u001b[37m\u001b[0m \u001b[1m0s\u001b[0m 33ms/step - accuracy: 0.6667 - loss: 0.6874\n",
      "Epoch 2: val_accuracy did not improve from 0.33333\n",
      "\u001b[1m1/1\u001b[0m \u001b[32m━━━━━━━━━━━━━━━━━━━━\u001b[0m\u001b[37m\u001b[0m \u001b[1m0s\u001b[0m 58ms/step - accuracy: 0.6667 - loss: 0.6874 - val_accuracy: 0.3333 - val_loss: 0.7039 - learning_rate: 0.0010\n",
      "Epoch 3/55\n",
      "\u001b[1m1/1\u001b[0m \u001b[32m━━━━━━━━━━━━━━━━━━━━\u001b[0m\u001b[37m\u001b[0m \u001b[1m0s\u001b[0m 29ms/step - accuracy: 0.6667 - loss: 0.6793\n",
      "Epoch 3: val_accuracy did not improve from 0.33333\n",
      "\u001b[1m1/1\u001b[0m \u001b[32m━━━━━━━━━━━━━━━━━━━━\u001b[0m\u001b[37m\u001b[0m \u001b[1m0s\u001b[0m 56ms/step - accuracy: 0.6667 - loss: 0.6793 - val_accuracy: 0.3333 - val_loss: 0.7120 - learning_rate: 0.0010\n",
      "Epoch 4/55\n",
      "\u001b[1m1/1\u001b[0m \u001b[32m━━━━━━━━━━━━━━━━━━━━\u001b[0m\u001b[37m\u001b[0m \u001b[1m0s\u001b[0m 32ms/step - accuracy: 0.6667 - loss: 0.6700\n",
      "Epoch 4: val_accuracy did not improve from 0.33333\n",
      "\u001b[1m1/1\u001b[0m \u001b[32m━━━━━━━━━━━━━━━━━━━━\u001b[0m\u001b[37m\u001b[0m \u001b[1m0s\u001b[0m 57ms/step - accuracy: 0.6667 - loss: 0.6700 - val_accuracy: 0.3333 - val_loss: 0.7223 - learning_rate: 0.0010\n",
      "Epoch 5/55\n",
      "\u001b[1m1/1\u001b[0m \u001b[32m━━━━━━━━━━━━━━━━━━━━\u001b[0m\u001b[37m\u001b[0m \u001b[1m0s\u001b[0m 36ms/step - accuracy: 0.6667 - loss: 0.6592\n",
      "Epoch 5: val_accuracy did not improve from 0.33333\n",
      "\u001b[1m1/1\u001b[0m \u001b[32m━━━━━━━━━━━━━━━━━━━━\u001b[0m\u001b[37m\u001b[0m \u001b[1m0s\u001b[0m 67ms/step - accuracy: 0.6667 - loss: 0.6592 - val_accuracy: 0.3333 - val_loss: 0.7348 - learning_rate: 0.0010\n",
      "Epoch 6/55\n",
      "\u001b[1m1/1\u001b[0m \u001b[32m━━━━━━━━━━━━━━━━━━━━\u001b[0m\u001b[37m\u001b[0m \u001b[1m0s\u001b[0m 32ms/step - accuracy: 0.6667 - loss: 0.6462\n",
      "Epoch 6: val_accuracy did not improve from 0.33333\n",
      "\n",
      "Epoch 6: ReduceLROnPlateau reducing learning rate to 0.00010000000474974513.\n",
      "\u001b[1m1/1\u001b[0m \u001b[32m━━━━━━━━━━━━━━━━━━━━\u001b[0m\u001b[37m\u001b[0m \u001b[1m0s\u001b[0m 57ms/step - accuracy: 0.6667 - loss: 0.6462 - val_accuracy: 0.3333 - val_loss: 0.7504 - learning_rate: 0.0010\n",
      "Epoch 7/55\n",
      "\u001b[1m1/1\u001b[0m \u001b[32m━━━━━━━━━━━━━━━━━━━━\u001b[0m\u001b[37m\u001b[0m \u001b[1m0s\u001b[0m 28ms/step - accuracy: 0.6667 - loss: 0.6304\n",
      "Epoch 7: val_accuracy did not improve from 0.33333\n",
      "\u001b[1m1/1\u001b[0m \u001b[32m━━━━━━━━━━━━━━━━━━━━\u001b[0m\u001b[37m\u001b[0m \u001b[1m0s\u001b[0m 53ms/step - accuracy: 0.6667 - loss: 0.6304 - val_accuracy: 0.3333 - val_loss: 0.7523 - learning_rate: 1.0000e-04\n",
      "Epoch 8/55\n",
      "\u001b[1m1/1\u001b[0m \u001b[32m━━━━━━━━━━━━━━━━━━━━\u001b[0m\u001b[37m\u001b[0m \u001b[1m0s\u001b[0m 31ms/step - accuracy: 0.6667 - loss: 0.6286\n",
      "Epoch 8: val_accuracy did not improve from 0.33333\n",
      "\u001b[1m1/1\u001b[0m \u001b[32m━━━━━━━━━━━━━━━━━━━━\u001b[0m\u001b[37m\u001b[0m \u001b[1m0s\u001b[0m 55ms/step - accuracy: 0.6667 - loss: 0.6286 - val_accuracy: 0.3333 - val_loss: 0.7543 - learning_rate: 1.0000e-04\n",
      "Epoch 9/55\n",
      "\u001b[1m1/1\u001b[0m \u001b[32m━━━━━━━━━━━━━━━━━━━━\u001b[0m\u001b[37m\u001b[0m \u001b[1m0s\u001b[0m 31ms/step - accuracy: 0.6667 - loss: 0.6265\n",
      "Epoch 9: val_accuracy did not improve from 0.33333\n",
      "\u001b[1m1/1\u001b[0m \u001b[32m━━━━━━━━━━━━━━━━━━━━\u001b[0m\u001b[37m\u001b[0m \u001b[1m0s\u001b[0m 57ms/step - accuracy: 0.6667 - loss: 0.6265 - val_accuracy: 0.3333 - val_loss: 0.7564 - learning_rate: 1.0000e-04\n",
      "Epoch 10/55\n",
      "\u001b[1m1/1\u001b[0m \u001b[32m━━━━━━━━━━━━━━━━━━━━\u001b[0m\u001b[37m\u001b[0m \u001b[1m0s\u001b[0m 31ms/step - accuracy: 0.6667 - loss: 0.6243\n",
      "Epoch 10: val_accuracy did not improve from 0.33333\n",
      "\u001b[1m1/1\u001b[0m \u001b[32m━━━━━━━━━━━━━━━━━━━━\u001b[0m\u001b[37m\u001b[0m \u001b[1m0s\u001b[0m 62ms/step - accuracy: 0.6667 - loss: 0.6243 - val_accuracy: 0.3333 - val_loss: 0.7586 - learning_rate: 1.0000e-04\n",
      "Epoch 11/55\n",
      "\u001b[1m1/1\u001b[0m \u001b[32m━━━━━━━━━━━━━━━━━━━━\u001b[0m\u001b[37m\u001b[0m \u001b[1m0s\u001b[0m 31ms/step - accuracy: 0.6667 - loss: 0.6221\n",
      "Epoch 11: val_accuracy did not improve from 0.33333\n",
      "\n",
      "Epoch 11: ReduceLROnPlateau reducing learning rate to 1.0000000474974514e-05.\n",
      "\u001b[1m1/1\u001b[0m \u001b[32m━━━━━━━━━━━━━━━━━━━━\u001b[0m\u001b[37m\u001b[0m \u001b[1m0s\u001b[0m 58ms/step - accuracy: 0.6667 - loss: 0.6221 - val_accuracy: 0.3333 - val_loss: 0.7610 - learning_rate: 1.0000e-04\n",
      "Epoch 11: early stopping\n",
      "Restoring model weights from the end of the best epoch: 1.\n"
     ]
    }
   ],
   "source": [
    "num_epochs = 55\n",
    "\n",
    "# Train the model\n",
    "history_Conv1D = model_Conv1D.fit(training_padded, training_labels, epochs=num_epochs, \n",
    "                                  validation_data=(testing_padded, testing_labels), \n",
    "                                  callbacks=callbacks)\n"
   ]
  },
  {
   "cell_type": "code",
   "execution_count": 127,
   "metadata": {},
   "outputs": [
    {
     "name": "stdout",
     "output_type": "stream",
     "text": [
      "\u001b[1m1/1\u001b[0m \u001b[32m━━━━━━━━━━━━━━━━━━━━\u001b[0m\u001b[37m\u001b[0m \u001b[1m0s\u001b[0m 21ms/step - accuracy: 0.3333 - loss: 0.6980\n",
      "Test results - Loss: 0.6979979872703552 - Accuracy: 33.33333432674408%\n"
     ]
    }
   ],
   "source": [
    "# Evaluate the model\n",
    "results_Conv1D = model_Conv1D.evaluate(testing_padded, testing_labels)\n",
    "\n",
    "# print results\n",
    "print(f'Test results - Loss: {results_Conv1D[0]} - Accuracy: {100*results_Conv1D[1]}%')"
   ]
  },
  {
   "cell_type": "code",
   "execution_count": 128,
   "metadata": {
    "id": "Pu8IIFrnEk4N"
   },
   "outputs": [
    {
     "data": {
      "image/png": "[encoded data removed]",
      "text/plain": [
       "<Figure size 640x480 with 1 Axes>"
      ]
     },
     "metadata": {},
     "output_type": "display_data"
    },
    {
     "data": {
      "image/png": "[encoded data removed]",
      "text/plain": [
       "<Figure size 640x480 with 1 Axes>"
      ]
     },
     "metadata": {},
     "output_type": "display_data"
    }
   ],
   "source": [
    "import matplotlib.pyplot as plt\n",
    "\n",
    "# Function to plot accuracy and loss\n",
    "def plot_graphs(history, metric):\n",
    "    plt.plot(history.history[metric])\n",
    "    plt.plot(history.history['val_' + metric])  # Validation metric\n",
    "    plt.title(f'Model {metric.capitalize()}')\n",
    "    plt.xlabel('Epochs')\n",
    "    plt.ylabel(metric.capitalize())\n",
    "    plt.legend(['Train', 'Test'], loc='upper left')\n",
    "    plt.show()\n",
    "\n",
    "# Plot the accuracy and loss\n",
    "plot_graphs(history_Conv1D, \"accuracy\")\n",
    "plot_graphs(history_Conv1D, \"loss\")\n"
   ]
  },
  {
   "attachments": {},
   "cell_type": "markdown",
   "metadata": {},
   "source": [
    "# Testing Model"
   ]
  },
  {
   "cell_type": "code",
   "execution_count": 129,
   "metadata": {},
   "outputs": [],
   "source": [
    "model_base = tf.keras.models.load_model('best_model.keras')\n",
    "model_GlobalAveragePooling1D = tf.keras.models.load_model('Model_Basic_GAP.keras')\n",
    "model_Conv1D = tf.keras.models.load_model('Model_Embedding_Conv1D.keras')"
   ]
  },
  {
   "cell_type": "code",
   "execution_count": 147,
   "metadata": {},
   "outputs": [
    {
     "name": "stderr",
     "output_type": "stream",
     "text": [
      "WARNING:absl:Compiled the loaded model, but the compiled metrics have yet to be built. `model.compile_metrics` will be empty until you train or evaluate the model.\n",
      "WARNING:absl:Error in loading the saved optimizer state. As a result, your model is starting with a freshly initialized optimizer.\n",
      "WARNING:absl:Compiled the loaded model, but the compiled metrics have yet to be built. `model.compile_metrics` will be empty until you train or evaluate the model.\n",
      "WARNING:absl:Error in loading the saved optimizer state. As a result, your model is starting with a freshly initialized optimizer.\n",
      "WARNING:absl:Compiled the loaded model, but the compiled metrics have yet to be built. `model.compile_metrics` will be empty until you train or evaluate the model.\n",
      "WARNING:absl:Error in loading the saved optimizer state. As a result, your model is starting with a freshly initialized optimizer.\n"
     ]
    }
   ],
   "source": [
    "model_base = tf.keras.models.load_model('Basic Model Embeding Layers.h5')\n",
    "model_GlobalAveragePooling1D = tf.keras.models.load_model('Model Basic + Global Average Pooling.h5')\n",
    "model_Conv1D = tf.keras.models.load_model('Model_Embedding_Conv1D.h5')"
   ]
  },
  {
   "attachments": {},
   "cell_type": "markdown",
   "metadata": {},
   "source": [
    "## Testing Base Model"
   ]
  },
  {
   "cell_type": "code",
   "execution_count": null,
   "metadata": {},
   "outputs": [
    {
     "name": "stdout",
     "output_type": "stream",
     "text": [
      "\u001b[1m1/1\u001b[0m \u001b[32m━━━━━━━━━━━━━━━━━━━━\u001b[0m\u001b[37m\u001b[0m \u001b[1m0s\u001b[0m 19ms/step\n",
      "Potential Suicide Post\n"
     ]
    }
   ],
   "source": [
    "# Define the tweet\n",
    "twt = ['i m great man i love my life and this world']\n",
    "twt = tokenizer.texts_to_sequences(twt)\n",
    "\n",
    "# Make sure max_length matches the value used during training\n",
    "max_length = 180  # Adjust if necessary\n",
    "\n",
    "# Pad the sequence to the correct length\n",
    "twt = pad_sequences(twt, maxlen=max_length, padding='post', truncating='post')\n",
    "\n",
    "# Predict the sentiment\n",
    "prediction_base = model_base.predict(twt)\n",
    " \n",
    "# Print the prediction\n",
    "if prediction_base[0] >= 0.5:\n",
    "    print(\"Non Suicide Post\")\n",
    "else:\n",
    "    print(\"Potential Suicide Post\")\n",
    "    \n"
   ]
  },
  {
   "cell_type": "code",
   "execution_count": 153,
   "metadata": {},
   "outputs": [
    {
     "name": "stdout",
     "output_type": "stream",
     "text": [
      "\u001b[1m1/1\u001b[0m \u001b[32m━━━━━━━━━━━━━━━━━━━━\u001b[0m\u001b[37m\u001b[0m \u001b[1m0s\u001b[0m 26ms/step\n",
      "Potential Suicide Post\n"
     ]
    }
   ],
   "source": [
    "# Define the tweet\n",
    "twt = ['i m great']\n",
    "twt = tokenizer.texts_to_sequences(twt)\n",
    "\n",
    "# Make sure max_length matches the value used during training\n",
    "max_length = 10_000  # Adjust if necessary\n",
    "\n",
    "# Pad the sequence to the correct length\n",
    "twt = pad_sequences(twt, maxlen=max_length, padding='post', truncating='post')\n",
    "\n",
    "# Predict the sentiment\n",
    "prediction_base = model_base.predict(twt)\n",
    " \n",
    "# Print the prediction\n",
    "if prediction_base[0] >= 0.5:\n",
    "    print(\"Non Suicide Post\")\n",
    "else:\n",
    "    print(\"Potential Suicide Post\")\n"
   ]
  },
  {
   "attachments": {},
   "cell_type": "markdown",
   "metadata": {},
   "source": [
    "## Testing Basic + Global Average Pooling"
   ]
  },
  {
   "cell_type": "code",
   "execution_count": 131,
   "metadata": {},
   "outputs": [
    {
     "name": "stdout",
     "output_type": "stream",
     "text": [
      "\u001b[1m1/1\u001b[0m \u001b[32m━━━━━━━━━━━━━━━━━━━━\u001b[0m\u001b[37m\u001b[0m \u001b[1m0s\u001b[0m 65ms/step\n",
      "Potential Suicide Post\n"
     ]
    }
   ],
   "source": [
    "# Testing Basic + Global Average Pooling\n",
    "prediction_Globalave = model_GlobalAveragePooling1D.predict(twt)\n",
    "\n",
    "# Print the prediction\n",
    "if(np.argmax(prediction_Globalave) == 0):\n",
    "    print(\"Potential Suicide Post\")\n",
    "elif (np.argmax(prediction_Globalave) == 1):\n",
    "    print(\"Non Suicide Post\")"
   ]
  },
  {
   "attachments": {},
   "cell_type": "markdown",
   "metadata": {},
   "source": [
    "## Testing Embeding + Conv1D"
   ]
  },
  {
   "cell_type": "code",
   "execution_count": 132,
   "metadata": {},
   "outputs": [
    {
     "name": "stdout",
     "output_type": "stream",
     "text": [
      "\u001b[1m1/1\u001b[0m \u001b[32m━━━━━━━━━━━━━━━━━━━━\u001b[0m\u001b[37m\u001b[0m \u001b[1m0s\u001b[0m 78ms/step\n",
      "Potential Suicide Post\n"
     ]
    }
   ],
   "source": [
    "# Testing Embeding + Conv1D\n",
    "prediction_EmbedCov1D = model_Conv1D.predict(twt)\n",
    "\n",
    "# Print the prediction\n",
    "if(np.argmax(prediction_EmbedCov1D) == 0):\n",
    "    print(\"Potential Suicide Post\")\n",
    "elif (np.argmax(prediction_EmbedCov1D) == 1):\n",
    "    print(\"Non Suicide Post\")"
   ]
  },
  {
   "attachments": {},
   "cell_type": "markdown",
   "metadata": {},
   "source": [
    "# Comparation Model"
   ]
  },
  {
   "cell_type": "code",
   "execution_count": 133,
   "metadata": {},
   "outputs": [
    {
     "name": "stdout",
     "output_type": "stream",
     "text": [
      "Shape of testing_padded: (3, 200)\n",
      "First few testing labels: [0 1 0]\n",
      "\u001b[1m1/1\u001b[0m \u001b[32m━━━━━━━━━━━━━━━━━━━━\u001b[0m\u001b[37m\u001b[0m \u001b[1m0s\u001b[0m 432ms/step - accuracy: 0.3333 - loss: 0.9826\n",
      "\u001b[1m1/1\u001b[0m \u001b[32m━━━━━━━━━━━━━━━━━━━━\u001b[0m\u001b[37m\u001b[0m \u001b[1m0s\u001b[0m 258ms/step - accuracy: 0.6667 - loss: 0.6674\n",
      "\u001b[1m1/1\u001b[0m \u001b[32m━━━━━━━━━━━━━━━━━━━━\u001b[0m\u001b[37m\u001b[0m \u001b[1m0s\u001b[0m 260ms/step - accuracy: 0.3333 - loss: 0.6980\n",
      "                               Accuracy Score\n",
      "Model                                        \n",
      "Base + Global Average Pooling        0.666667\n",
      "Base Model                           0.333333\n",
      "Base + CNN                           0.333333\n"
     ]
    }
   ],
   "source": [
    "# Ensure that the 'testing_padded' input is the correct shape\n",
    "print(f\"Shape of testing_padded: {testing_padded.shape}\")  # Should print (num_samples, 200)\n",
    "\n",
    "# Check the first few labels\n",
    "print(f\"First few testing labels: {testing_labels[:5]}\")  # Ensure these are properly formatted\n",
    "\n",
    "# If you're loading pre-trained models, ensure they're compiled first:\n",
    "def compile_model_if_needed(model):\n",
    "    if not model.optimizer:  # If the model does not have an optimizer, it is not compiled\n",
    "        model.compile(optimizer='adam', loss='binary_crossentropy', metrics=['accuracy'])\n",
    "    return model\n",
    "\n",
    "# Compile models if needed\n",
    "model_base = compile_model_if_needed(model_base)\n",
    "model_GlobalAveragePooling1D = compile_model_if_needed(model_GlobalAveragePooling1D)\n",
    "model_Conv1D = compile_model_if_needed(model_Conv1D)\n",
    "\n",
    "# Evaluate each model\n",
    "results_base = model_base.evaluate(testing_padded, testing_labels)\n",
    "results_GlobalAveragePooling1D = model_GlobalAveragePooling1D.evaluate(testing_padded, testing_labels)\n",
    "results_Conv1D = model_Conv1D.evaluate(testing_padded, testing_labels)\n",
    "\n",
    "# Compare model accuracy\n",
    "import pandas as pd\n",
    "results = pd.DataFrame({\n",
    "    'Model': ['Base Model', 'Base + Global Average Pooling', 'Base + CNN'],\n",
    "    'Accuracy Score': [results_base[1], results_GlobalAveragePooling1D[1], results_Conv1D[1]]\n",
    "})\n",
    "\n",
    "# Sort the models by Accuracy Score in descending order\n",
    "result_df = results.sort_values(by='Accuracy Score', ascending=False)\n",
    "\n",
    "# Set the 'Model' column as the index\n",
    "result_df = result_df.set_index('Model')\n",
    "\n",
    "# Display the result\n",
    "print(result_df)\n"
   ]
  },
  {
   "cell_type": "code",
   "execution_count": 146,
   "metadata": {},
   "outputs": [
    {
     "name": "stderr",
     "output_type": "stream",
     "text": [
      "WARNING:absl:Compiled the loaded model, but the compiled metrics have yet to be built. `model.compile_metrics` will be empty until you train or evaluate the model.\n",
      "WARNING:absl:Error in loading the saved optimizer state. As a result, your model is starting with a freshly initialized optimizer.\n",
      "WARNING:absl:Compiled the loaded model, but the compiled metrics have yet to be built. `model.compile_metrics` will be empty until you train or evaluate the model.\n",
      "WARNING:absl:Error in loading the saved optimizer state. As a result, your model is starting with a freshly initialized optimizer.\n",
      "WARNING:absl:Compiled the loaded model, but the compiled metrics have yet to be built. `model.compile_metrics` will be empty until you train or evaluate the model.\n",
      "WARNING:absl:Error in loading the saved optimizer state. As a result, your model is starting with a freshly initialized optimizer.\n"
     ]
    },
    {
     "name": "stdout",
     "output_type": "stream",
     "text": [
      "\u001b[1m1/1\u001b[0m \u001b[32m━━━━━━━━━━━━━━━━━━━━\u001b[0m\u001b[37m\u001b[0m \u001b[1m0s\u001b[0m 78ms/step\n",
      "\u001b[1m1/1\u001b[0m \u001b[32m━━━━━━━━━━━━━━━━━━━━\u001b[0m\u001b[37m\u001b[0m \u001b[1m0s\u001b[0m 63ms/step\n",
      "\u001b[1m1/1\u001b[0m \u001b[32m━━━━━━━━━━━━━━━━━━━━\u001b[0m\u001b[37m\u001b[0m \u001b[1m0s\u001b[0m 95ms/step\n",
      "                                                Text Actual Label Base Model  \\\n",
      "0                            I want to enjoy my life     Negative   Positive   \n",
      "1                           I want to end everything     Positive   Positive   \n",
      "2                       I feel so tired of this life     Negative   Negative   \n",
      "3                I'm excited about tomorrow's plans!     Positive   Negative   \n",
      "4            Nobody cares about me, I feel worthless     Negative   Negative   \n",
      "5                 Life is amazing, I feel so blessed     Positive   Positive   \n",
      "6            Sometimes I just feel like disappearing     Negative   Negative   \n",
      "7  This is the best day ever, so many good things...     Positive   Positive   \n",
      "8                              I want to end my life     Negative   Positive   \n",
      "9                 Everything feels hopeless and dark     Negative   Positive   \n",
      "\n",
      "  Global Avg Pooling Conv1D Model  \n",
      "0           Negative     Positive  \n",
      "1           Negative     Positive  \n",
      "2           Negative     Negative  \n",
      "3           Negative     Positive  \n",
      "4           Negative     Negative  \n",
      "5           Positive     Positive  \n",
      "6           Negative     Positive  \n",
      "7           Positive     Positive  \n",
      "8           Negative     Negative  \n",
      "9           Positive     Positive  \n"
     ]
    },
    {
     "data": {
      "image/png": "[encoded data removed]",
      "text/plain": [
       "<Figure size 1500x500 with 3 Axes>"
      ]
     },
     "metadata": {},
     "output_type": "display_data"
    }
   ],
   "source": [
    "import numpy as np\n",
    "import pandas as pd\n",
    "import matplotlib.pyplot as plt\n",
    "from tensorflow.keras.models import load_model\n",
    "from tensorflow.keras.preprocessing.text import Tokenizer\n",
    "from tensorflow.keras.preprocessing.sequence import pad_sequences\n",
    "\n",
    "# # Load the trained models\n",
    "# model_base = load_model('best_model.keras')\n",
    "# model_GlobalAveragePooling1D = load_model('Model_Basic_GAP.keras')\n",
    "# model_Conv1D = load_model('Model_Embedding_Conv1D.keras')\n",
    "\n",
    "# Load the trained models\n",
    "model_base = load_model('Basic Model Embeding Layers.h5')\n",
    "model_GlobalAveragePooling1D = load_model('Model Basic + Global Average Pooling.h5')\n",
    "model_Conv1D = load_model('Model_Embedding_Conv1D.h5')\n",
    "\n",
    "# Updated training text data\n",
    "training_texts = [\n",
    "    \"Ex wife threaten suicide. Rec left wife good. Cheat twice, lie much, decide refuse go back. Day ago began threaten suicide tirelessly. Spent past day talking, keep hesitating. Want believe come back. Know lot people threaten in order get way. Happen really suppose handle death hand? Still love wife, cannot deal get cheat constantly. Feel insecure, worry today may be day. Hope much happen.\",\n",
    "    \"Weird get affect compliment come someone know irl. Feel really good internet stranger.\",\n",
    "    \"Final almost never hear bad year ever. Swear fuck god annoy.\",\n",
    "    \"Need help. Just help. I'm crying hard.\"\n",
    "]\n",
    "\n",
    "# Updated testing texts\n",
    "testing_texts = [\n",
    "    \"I want to enjoy my life\",  # Positive sentiment example\n",
    "    \"I want to end everything\",  # Negative sentiment example\n",
    "    \"I feel so tired of this life\",  # Negative sentiment example\n",
    "    \"I'm excited about tomorrow's plans!\",  # Positive sentiment example\n",
    "    \"Nobody cares about me, I feel worthless\",  # Negative sentiment example\n",
    "    \"Life is amazing, I feel so blessed\",  # Positive sentiment example\n",
    "    \"Sometimes I just feel like disappearing\",  # Negative sentiment example\n",
    "    \"This is the best day ever, so many good things happened!\",  # Positive sentiment example\n",
    "    \"I want to end my life\",  # Negative sentiment example\n",
    "    \"Everything feels hopeless and dark\",  # Negative sentiment example\n",
    "]\n",
    "\n",
    "# Tokenizer setup\n",
    "vocab_size = 10_000  # Adjust as needed\n",
    "max_length = 10_000    # Maximum length for padding\n",
    "embedding_dim = 16 # Embedding dimension\n",
    "\n",
    "tokenizer = Tokenizer(num_words=vocab_size)\n",
    "tokenizer.fit_on_texts(training_texts + testing_texts)  # Fit on both train and test texts\n",
    "\n",
    "# Convert text to sequences\n",
    "training_sequences = tokenizer.texts_to_sequences(training_texts)\n",
    "testing_sequences = tokenizer.texts_to_sequences(testing_texts)\n",
    "\n",
    "# Pad sequences to ensure equal input length\n",
    "training_padded = pad_sequences(training_sequences, maxlen=max_length, padding='post', truncating='post')\n",
    "testing_padded = pad_sequences(testing_sequences, maxlen=max_length, padding='post', truncating='post')\n",
    "\n",
    "# Convert labels to numpy arrays (replace with actual labels)\n",
    "training_labels = np.array([1, 0, 1, 0])  # Example labels\n",
    "testing_labels = np.array([0, 1, 0, 1, 0, 1, 0, 1, 0, 0])  # Example labels for binary classification\n",
    "\n",
    "# Predict using all three models\n",
    "predictions_base = model_base.predict(testing_padded)\n",
    "predictions_gap = model_GlobalAveragePooling1D.predict(testing_padded)\n",
    "predictions_cnn = model_Conv1D.predict(testing_padded)\n",
    "\n",
    "# Convert probabilities to binary labels for binary classification\n",
    "binary_labels_base = (predictions_base > 0.5).astype(\"int32\").flatten()\n",
    "binary_labels_gap = (predictions_gap > 0.5).astype(\"int32\").flatten()\n",
    "binary_labels_cnn = (predictions_cnn > 0.5).astype(\"int32\").flatten()\n",
    "\n",
    "# Create a DataFrame for comparison\n",
    "results_df = pd.DataFrame({\n",
    "    'Text': testing_texts,\n",
    "    'Actual Label': ['Positive' if lbl == 1 else 'Negative' for lbl in testing_labels],\n",
    "    'Base Model': ['Positive' if lbl == 1 else 'Negative' for lbl in binary_labels_base],\n",
    "    'Global Avg Pooling': ['Positive' if lbl == 1 else 'Negative' for lbl in binary_labels_gap],\n",
    "    'Conv1D Model': ['Positive' if lbl == 1 else 'Negative' for lbl in binary_labels_cnn],\n",
    "})\n",
    "\n",
    "# Print the results\n",
    "print(results_df)\n",
    "\n",
    "# Optionally, plot prediction distributions for each model\n",
    "fig, axes = plt.subplots(1, 3, figsize=(15, 5))\n",
    "\n",
    "results_df['Base Model'].value_counts().plot(kind='bar', color=['red', 'green'], ax=axes[0], title='Base Model')\n",
    "results_df['Global Avg Pooling'].value_counts().plot(kind='bar', color=['red', 'green'], ax=axes[1], title='Global Avg Pooling')\n",
    "results_df['Conv1D Model'].value_counts().plot(kind='bar', color=['red', 'green'], ax=axes[2], title='Conv1D Model')\n",
    "\n",
    "plt.tight_layout()\n",
    "plt.show()\n"
   ]
  }
 ],
 "metadata": {
  "accelerator": "GPU",
  "colab": {
   "provenance": []
  },
  "gpuClass": "standard",
  "kernelspec": {
   "display_name": "Python 3",
   "language": "python",
   "name": "python3"
  },
  "language_info": {
   "codemirror_mode": {
    "name": "ipython",
    "version": 3
   },
   "file_extension": ".py",
   "mimetype": "text/x-python",
   "name": "python",
   "nbconvert_exporter": "python",
   "pygments_lexer": "ipython3",
   "version": "3.11.4"
  }
 },
 "nbformat": 4,
 "nbformat_minor": 4
}
